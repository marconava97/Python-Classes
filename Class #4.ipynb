{
  "nbformat": 4,
  "nbformat_minor": 0,
  "metadata": {
    "colab": {
      "name": "Untitled30.ipynb",
      "provenance": []
    },
    "kernelspec": {
      "name": "python3",
      "display_name": "Python 3"
    },
    "language_info": {
      "name": "python"
    }
  },
  "cells": [
    {
      "cell_type": "markdown",
      "source": [
        "**Functional programming**"
      ],
      "metadata": {
        "id": "irRnRwFcjenp"
      }
    },
    {
      "cell_type": "markdown",
      "source": [
        "Functional programming is a programming paradigm. Basically, it is a set of tools, methods and rules that serve to organize our code and give it coherence.\n",
        "*texto en cursiva*"
      ],
      "metadata": {
        "id": "AprUb-gZjNFw"
      }
    },
    {
      "cell_type": "markdown",
      "source": [
        "In this course we are not interested in the details of functional programming, but we are going to learn how to use two of its most common functions: map and filter. Why? Because the way they work is a lot like the way data scientists program.\n",
        "\n",
        "Understanding map and filter 100% will make it easier for you to get closer to the universal functions in numpy and pandas and how their filters work."
      ],
      "metadata": {
        "id": "-GCaDfwHjVkD"
      }
    },
    {
      "cell_type": "markdown",
      "source": [
        "**MAP**"
      ],
      "metadata": {
        "id": "PBGcgpWojtaE"
      }
    },
    {
      "cell_type": "markdown",
      "source": [
        "The first function we are going to learn is the map function. map takes a function and a list and returns a new list where the function has been applied to each element of the original list:\n"
      ],
      "metadata": {
        "id": "3zscFXUdjv4x"
      }
    },
    {
      "cell_type": "markdown",
      "source": [
        "Many times we will want to apply functions to each of the elements in a list. This is a very common procedure in data science. Applying element-by-element functions to a list is quite tedious without using the map function. Luckily, map makes everything very easy and intuitive.\n",
        "\n",
        "In order to use map we first need a list:"
      ],
      "metadata": {
        "id": "bwSbgsGSj8dn"
      }
    },
    {
      "cell_type": "code",
      "source": [
        "numbers = [1, 2, 3, 4, 5, 6, 7, 8, 9, 10]\n"
      ],
      "metadata": {
        "id": "Z86ornNIj9Fg"
      },
      "execution_count": null,
      "outputs": []
    },
    {
      "cell_type": "markdown",
      "source": [
        "Now we have to think about what process we want to apply to each of the elements in the list. Let's say we want to multiply them by 10."
      ],
      "metadata": {
        "id": "PLxodWFfkLNA"
      }
    },
    {
      "cell_type": "code",
      "source": [
        "numbers*10"
      ],
      "metadata": {
        "colab": {
          "base_uri": "https://localhost:8080/"
        },
        "id": "9fK-CldOkL8s",
        "outputId": "5a1acf69-eefd-4eb4-a4ca-cf7da37380b1"
      },
      "execution_count": null,
      "outputs": [
        {
          "output_type": "execute_result",
          "data": {
            "text/plain": [
              "[1, 2, 3, 4, 5, 6, 7, 8, 9, 10]"
            ]
          },
          "metadata": {},
          "execution_count": 3
        }
      ]
    },
    {
      "cell_type": "markdown",
      "source": [
        "Then we have to write a function that receives a parameter (which is going to be each of our numbers) and returns it multiplied by 10:\n"
      ],
      "metadata": {
        "id": "Sx_n5kgmkQwW"
      }
    },
    {
      "cell_type": "code",
      "source": [
        "def multiply_by_10(number):\n",
        "    \n",
        "    return number * 10"
      ],
      "metadata": {
        "id": "ro1KNDvkkXy7"
      },
      "execution_count": null,
      "outputs": []
    },
    {
      "cell_type": "markdown",
      "source": [
        "The next step is to apply our function to the list using map:"
      ],
      "metadata": {
        "id": "MMsymp3gkiBF"
      }
    },
    {
      "cell_type": "code",
      "source": [
        "list(map(multiply_by_10, numbers))"
      ],
      "metadata": {
        "id": "hiKgFM1kki_c"
      },
      "execution_count": null,
      "outputs": []
    },
    {
      "cell_type": "markdown",
      "source": [
        "\n",
        "Why are we adding that list function? List helps us convert the result of map into a regular list. We could save the result of this procedure in another variable:"
      ],
      "metadata": {
        "id": "s52eol-3kzpA"
      }
    },
    {
      "cell_type": "code",
      "source": [
        "numbers_by_10 = list(map(multiply_by_10, numbers))\n",
        "\n",
        "numbers_by_10\n"
      ],
      "metadata": {
        "id": "U9aKa3-zk3_x"
      },
      "execution_count": null,
      "outputs": []
    },
    {
      "cell_type": "markdown",
      "source": [
        "We can apply an infinite number of functions to our list using map. Let's look at some other examples:\n"
      ],
      "metadata": {
        "id": "ip5H1FRsk_h1"
      }
    },
    {
      "cell_type": "code",
      "source": [
        "def convert_to_string_plus_unit(number):\n",
        "    \n",
        "    return f'{number} sec'\n",
        "\n",
        "list(map(convert_to_string_plus_unit, numbers))"
      ],
      "metadata": {
        "id": "8OJQ3GDhlDhe"
      },
      "execution_count": null,
      "outputs": []
    },
    {
      "cell_type": "code",
      "source": [
        "def convert_to_negative_numbers(number):\n",
        "    \n",
        "    return number * -1\n",
        "\n",
        "list(map(convert_to_negative_numbers, numbers))"
      ],
      "metadata": {
        "id": "_l8clNnqlOqk"
      },
      "execution_count": null,
      "outputs": []
    },
    {
      "cell_type": "code",
      "source": [
        "def convert_to_0_if_less_than_5(number):\n",
        "    \n",
        "    if number < 5:\n",
        "        return 0\n",
        "    else:\n",
        "        return number\n",
        "        \n",
        "list(map(convert_to_0_if_less_than_5, numbers))"
      ],
      "metadata": {
        "id": "FGF3iATeE3qE"
      },
      "execution_count": null,
      "outputs": []
    },
    {
      "cell_type": "code",
      "source": [
        "def convert_to_true_if_greater_than_6(number):\n",
        "    \n",
        "    if number > 6:\n",
        "        return True\n",
        "    else:\n",
        "        returnFalse\n",
        "    \n",
        "list(map(convert_to_true_if_greater_than_6, numbers))"
      ],
      "metadata": {
        "id": "KKftMxYIFDSg"
      },
      "execution_count": null,
      "outputs": []
    },
    {
      "cell_type": "code",
      "source": [
        "def starts_with_A(s):\n",
        "    return s[0] == \"A\"\n",
        "\n",
        "fruit = [\"Apple\", \"Banana\", \"Pear\", \"Apricot\", \"Orange\"]\n",
        "map_object = map(starts_with_A, fruit)\n",
        "\n",
        "print(list(map_object))"
      ],
      "metadata": {
        "colab": {
          "base_uri": "https://localhost:8080/"
        },
        "id": "0vJZpZhFJ-CK",
        "outputId": "8d671d55-ea03-4798-f83f-9d246006b7a8"
      },
      "execution_count": 1,
      "outputs": [
        {
          "output_type": "stream",
          "name": "stdout",
          "text": [
            "[True, False, False, True, False]\n"
          ]
        }
      ]
    },
    {
      "cell_type": "markdown",
      "source": [
        "**FILTER**"
      ],
      "metadata": {
        "id": "_Q2bfKtTF2UB"
      }
    },
    {
      "cell_type": "markdown",
      "source": [
        "Our second function is called filter. As its name says, filter helps us to filter out elements that we don't want from the list.\n",
        "\n",
        "filter allows us to filter our lists to leave out elements that we don't want. This may seem a bit strange to you. Why do we want to filter data? One of our most important tasks as data processors is to cleanse our data sets so that they contain only the data we need for our analysis. One of the most common cleaning techniques is to filter our data set. We are going to learn how to do this using filter.\n",
        "\n",
        "filter receives a function that returns True or False and a list. It then applies the \"item by item\" function to the list. Every time the function returns True, the element stays in the new list; when the function returns False, the element is discarded:"
      ],
      "metadata": {
        "id": "pSQ1KJVHF6Zr"
      }
    },
    {
      "cell_type": "code",
      "source": [
        "numbers = [1, 2, 3, 4, 5, 6, 7, 8, 9, 10]"
      ],
      "metadata": {
        "id": "LZkNcmNRHWlL"
      },
      "execution_count": null,
      "outputs": []
    },
    {
      "cell_type": "code",
      "source": [
        "def number_is_even(number):\n",
        "    \n",
        "    if number % 2 == 0:\n",
        "        return True\n",
        "    else:\n",
        "        return False"
      ],
      "metadata": {
        "id": "GTc_T3YDHZp-"
      },
      "execution_count": null,
      "outputs": []
    },
    {
      "cell_type": "code",
      "source": [
        "list(filter(number_is_even, numbers))"
      ],
      "metadata": {
        "id": "iS9l49GHHb0S"
      },
      "execution_count": null,
      "outputs": []
    },
    {
      "cell_type": "markdown",
      "source": [
        "Since our function returns True if the value is even, our resulting list only has even values.\n",
        "\n",
        "Let's look at another example:"
      ],
      "metadata": {
        "id": "T30EVuOiHn2y"
      }
    },
    {
      "cell_type": "code",
      "source": [
        "def number_is_greater_than_5(number):\n",
        "    \n",
        "    if number > 5:\n",
        "        return True\n",
        "    \n",
        "list(filter(number_is_greater_than_5, numbers))"
      ],
      "metadata": {
        "id": "WCfXpy1ZHoez"
      },
      "execution_count": null,
      "outputs": []
    },
    {
      "cell_type": "markdown",
      "source": [
        "In this case we don't add the if else: return False because Python assumes that if a function returns nothing it has returned a None, which counts as False. We then use filter to keep only the values ​​that interest us from a list.\n",
        "\n",
        "Some more examples:"
      ],
      "metadata": {
        "id": "lfruvNPwHycD"
      }
    },
    {
      "cell_type": "code",
      "source": [
        "def word_has_more_than_5_characters(word):\n",
        "    \n",
        "    if len(word) > 5:\n",
        "        return True\n",
        "    \n",
        "words = [\"Warner\", \"grass\", \"sun\", \"crazy\", \"sunny\", \"thirsty\", \"fish\", \"movies\", \"thousand\"]\n",
        "\n",
        "list(filter(word_has_more_than_5_characters, words))"
      ],
      "metadata": {
        "id": "pU0U5ViHH0QR"
      },
      "execution_count": null,
      "outputs": []
    },
    {
      "cell_type": "code",
      "source": [
        "def number_is_negative(number):\n",
        "    \n",
        "    if number < 0:\n",
        "        return True\n",
        "    \n",
        "numbers = [3, 5, -1, -7, -8, 4, -78, 5, -46, 56, 98, 9, -1, -2, -4]\n",
        "\n",
        "list(filter(number_is_negative, numbers))"
      ],
      "metadata": {
        "id": "7ddY69faIFr6"
      },
      "execution_count": null,
      "outputs": []
    },
    {
      "cell_type": "code",
      "source": [
        "def number_is_divisible_by_9(number):\n",
        "    \n",
        "    if number % 9 == 0:\n",
        "        return True\n",
        "    \n",
        "numbers = [3, 7, 9, 34, 72, 90, 87, 34, 99, 56, 12, 18]\n",
        "\n",
        "list(filter(number_is_divisible_by_9, numbers))"
      ],
      "metadata": {
        "id": "930IeyxEIuwg"
      },
      "execution_count": null,
      "outputs": []
    },
    {
      "cell_type": "code",
      "source": [
        "def starts_with_A(s):\n",
        "    return s[0] == \"A\"\n",
        "\n",
        "fruit = [\"Apple\", \"Banana\", \"Pear\", \"Apricot\", \"Orange\"]\n",
        "filter_object = filter(starts_with_A, fruit)\n",
        "\n",
        "print(list(filter_object))"
      ],
      "metadata": {
        "id": "CEPH-KEqKk4e"
      },
      "execution_count": null,
      "outputs": []
    },
    {
      "cell_type": "markdown",
      "source": [
        "**Lambda**"
      ],
      "metadata": {
        "id": "QXDAmlxxJhL8"
      }
    },
    {
      "cell_type": "markdown",
      "source": [
        "A lambda function is defined like this:\n"
      ],
      "metadata": {
        "id": "wkTyBPlHJiW8"
      }
    },
    {
      "cell_type": "code",
      "source": [
        "lambda x: x * 100\n"
      ],
      "metadata": {
        "id": "dKdpirtIJoYD"
      },
      "execution_count": null,
      "outputs": []
    },
    {
      "cell_type": "markdown",
      "source": [
        "The word lambda is used, then the parameters are defined, and at the end the body of the function is added, which in this case can only include a single statement: the return statement. There is no need to type return, lambda knows to return the only line of code it has.\n",
        "\n",
        "Now let's see how it would be used to reverse our previous comparison in a filter."
      ],
      "metadata": {
        "id": "1HP8k7iYJmUq"
      }
    },
    {
      "cell_type": "code",
      "source": [
        "def number_is_divisible_by_3(number):\n",
        "    \n",
        "    if number % 3 == 0:\n",
        "        return True\n",
        "    else:\n",
        "        return False"
      ],
      "metadata": {
        "id": "dMK1bbPNJt23"
      },
      "execution_count": null,
      "outputs": []
    },
    {
      "cell_type": "code",
      "source": [
        "numbers = [1, 2, 3, 4, 5, 6, 7, 8, 9, 10, 11, 12, 13, 14, 15, 16, 17, 18, 19, 20]"
      ],
      "metadata": {
        "id": "M0Taf4rPKvzD"
      },
      "execution_count": null,
      "outputs": []
    },
    {
      "cell_type": "code",
      "source": [
        "list(filter(lambda x: not number_is_divisible_by_3(x), numbers))"
      ],
      "metadata": {
        "id": "bjEb2m0xLNeX"
      },
      "execution_count": null,
      "outputs": []
    },
    {
      "cell_type": "markdown",
      "source": [
        "As you can see, this statement returns all the numbers that are not divisible by 3. It reverses the operation of the function number_is_divisible_by_3. We could do it this way, but it requires more code:"
      ],
      "metadata": {
        "id": "CVhEV-HYLUw3"
      }
    },
    {
      "cell_type": "code",
      "source": [
        "def number_is_not_divisible_by_3(number):\n",
        "    \n",
        "    if not number_is_divisible_by_3(number):\n",
        "        return True\n",
        "    else:\n",
        "        return False"
      ],
      "metadata": {
        "id": "Ht7Q_3tGLVVe"
      },
      "execution_count": null,
      "outputs": []
    },
    {
      "cell_type": "code",
      "source": [
        "numeros = [3, 5, -1, -7, -8, 4, -78, 5, -46, 56, 98, 9, -1, -2, -4]\n",
        "\n",
        "list(filter(lambda x: x < 0, numeros))"
      ],
      "metadata": {
        "id": "0mtWB90_LiwC"
      },
      "execution_count": null,
      "outputs": []
    },
    {
      "cell_type": "markdown",
      "source": [
        "**TRY AND EXCEPT**"
      ],
      "metadata": {
        "id": "mU8-a-uHMh3M"
      }
    },
    {
      "cell_type": "markdown",
      "source": [
        "\n",
        "During the process of a program, different types of errors can occur, which we call Exceptions. An Exception can happen in any of these cases, for example:"
      ],
      "metadata": {
        "id": "ikSIq4LNMk5y"
      }
    },
    {
      "cell_type": "code",
      "source": [
        "list_1 = [1, 2, 3, 4, 5]\n",
        "\n",
        "list_1[10]\n",
        "\n",
        "#It will send us an error "
      ],
      "metadata": {
        "id": "4C21R62CMr-M"
      },
      "execution_count": null,
      "outputs": []
    },
    {
      "cell_type": "code",
      "source": [
        "dict_1 = {\n",
        "    'a': 1,\n",
        "    'b': 2,\n",
        "    'c': 3,\n",
        "    'd': 4\n",
        "}\n",
        "\n",
        "dict_1['z']"
      ],
      "metadata": {
        "id": "R3wwjJ4RM0uE"
      },
      "execution_count": null,
      "outputs": []
    },
    {
      "cell_type": "code",
      "source": [
        "int(\"Holi\")"
      ],
      "metadata": {
        "id": "xja_I23SY2sz"
      },
      "execution_count": null,
      "outputs": []
    },
    {
      "cell_type": "markdown",
      "source": [
        "\n",
        "When we automate programs, we have to prevent Exceptions from occurring, as they would stop our program and mess up our automation. We can use try except structures to prevent this from happening:"
      ],
      "metadata": {
        "id": "klbwKY0CYf7F"
      }
    },
    {
      "cell_type": "code",
      "source": [
        "list_2 = [1, 2, 3, 4, 5]\n",
        "\n",
        "try:\n",
        "    print(list_2[10])\n",
        "except:\n",
        "    print(\"That number is out of range\")\n",
        "    print(\"Let's better read this number\")\n",
        "    print(list_2[2])"
      ],
      "metadata": {
        "id": "lF2cUHhnYsFa"
      },
      "execution_count": null,
      "outputs": []
    },
    {
      "cell_type": "code",
      "source": [
        "dict_2 = {\n",
        "    'a': 1,\n",
        "    'b': 2,\n",
        "    'c': 3,\n",
        "    'd': 4\n",
        "}\n",
        "\n",
        "try:\n",
        "    print(dict_2['z'])\n",
        "except:\n",
        "    print(\"That key does not exist\")\n",
        "    print(\"Let's better read this key\")\n",
        "    print(dict_2['b'])"
      ],
      "metadata": {
        "id": "piV_iZFnYxHo"
      },
      "execution_count": null,
      "outputs": []
    },
    {
      "cell_type": "code",
      "source": [
        "try:\n",
        "    print(int(\"Hello\"))\n",
        "except:\n",
        "    print(\"That's not a number\")\n",
        "    print(\"Let's better print it by converting it to a list\")\n",
        "    print(list(\"Hello\"))"
      ],
      "metadata": {
        "id": "8h43gPlgY7Pv"
      },
      "execution_count": null,
      "outputs": []
    }
  ]
}