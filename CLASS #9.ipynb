{
  "nbformat": 4,
  "nbformat_minor": 0,
  "metadata": {
    "colab": {
      "name": "Untitled24.ipynb",
      "provenance": []
    },
    "kernelspec": {
      "name": "python3",
      "display_name": "Python 3"
    },
    "language_info": {
      "name": "python"
    }
  },
  "cells": [
    {
      "cell_type": "markdown",
      "source": [
        "### **Introduction to data visualization: Distributions**\n"
      ],
      "metadata": {
        "id": "1DJhfSLYyzYd"
      }
    },
    {
      "cell_type": "markdown",
      "source": [
        "If we take the minimum value and the maximum value of our data set we have the range within which all our data is contained. But within that range the values ​​can be distributed in many different ways. Sometimes they are very close to the minimum value, sometimes they are very close to the maximum value; sometimes almost all of them are crowded around the median and only a few take the extreme values; sometimes they even generate two \"heaps\" around which most of the data is concentrated. There are so many possibilities.\n",
        "\n",
        "Using individual values ​​it is impossible to have a general idea of ​​our set and that is why we usually use some techniques that take into account the whole data set at the same time. Today we are going to learn how through data visualization we can get a much more precise idea of ​​how the data as a whole is organized.\n"
      ],
      "metadata": {
        "id": "LNaxBdPqzB34"
      }
    },
    {
      "cell_type": "markdown",
      "source": [
        "**Boxplots**"
      ],
      "metadata": {
        "id": "8kmleXaxzJ_i"
      }
    },
    {
      "cell_type": "markdown",
      "source": [
        "Boxplots (or box diagrams) are a way to visualize our data in such a way that the organization of the percentiles becomes very evident.\n",
        "\n",
        "Boxplots help us discern if our data is skewed (has a trend), is spread out or clustered, and if there are outliers with extreme values.\n"
      ],
      "metadata": {
        "id": "Oe3j12zhzMwc"
      }
    },
    {
      "cell_type": "code",
      "source": [
        "import seaborn as sns\n",
        "import matplotlib.pyplot as plt\n",
        "import pandas as pd"
      ],
      "metadata": {
        "id": "9qGZs-KBzJFk"
      },
      "execution_count": null,
      "outputs": []
    },
    {
      "cell_type": "code",
      "execution_count": null,
      "metadata": {
        "id": "MT_B5DtuwQx8"
      },
      "outputs": [],
      "source": [
        "df = pd.read_csv('../../Datasets/melbourne_housing-clean.csv', index_col=0)\n"
      ]
    },
    {
      "cell_type": "code",
      "source": [
        "df.head()\n"
      ],
      "metadata": {
        "id": "BvGZxLqD0mJ5"
      },
      "execution_count": null,
      "outputs": []
    },
    {
      "cell_type": "code",
      "source": [
        "sns.set(style=\"whitegrid\")\n",
        "sns.boxplot(x=df['price'])"
      ],
      "metadata": {
        "id": "Yr6E-Q300rPi"
      },
      "execution_count": null,
      "outputs": []
    },
    {
      "cell_type": "markdown",
      "source": [
        "What does this all mean?\n",
        "\n",
        "- The box is delimited by 2 values: The 25th percentile and the 75th percentile.\n",
        "- The vertical line inside the box indicates the 50th percentile (that is, the median).\n",
        "- The \"whiskers\" attempt to encompass the rest of the data to the left and right of the box, BUT do not extend beyond a distance equal to 1.5 * Interquartile Range. As you will remember, the interquartile range is the difference between the 75th percentile and the 25th percentile. If we multiply 1.5 by that Interquartile Range we obtain the maximum size of the whiskers.\n",
        "- The individual points outside the whiskers are obviously the samples whose value exceeds the maximum size of the whiskers. We cannot take this as an \"Absolute Rule\", but these values ​​are generally considered to be the outliers of our set.\n",
        "As you can see, this graph gives us a lot of very useful information.\n",
        "\n",
        "We now know that most of our data is concentrated in values ​​less than 2,000,000 and that very high prices are anomalies in our set.\n",
        "We know that, within the full range of the data, we have a distribution that tends towards the smallest values.\n",
        "We also know that our data is generally very concentrated (that is, not very dispersed), but that there is a \"tail\" of data to the right that extends quite far."
      ],
      "metadata": {
        "id": "oRd6aEz_19hA"
      }
    },
    {
      "cell_type": "code",
      "source": [
        "sns.set(style=\"whitegrid\")\n",
        "sns.boxplot(x=df['price'])\n",
        "plt.axvline(df['price'].mean(), c='y')"
      ],
      "metadata": {
        "id": "Hf82n_1a1-ev"
      },
      "execution_count": null,
      "outputs": []
    },
    {
      "cell_type": "markdown",
      "source": [
        "As you can see, despite such extreme outliers, we have so many values ​​in the lower range of our data that the average is fairly close to the median.\n"
      ],
      "metadata": {
        "id": "u10yAJYB3oyo"
      }
    },
    {
      "cell_type": "markdown",
      "source": [
        "Frequency Table\n"
      ],
      "metadata": {
        "id": "5VMGYnIL3zWA"
      }
    },
    {
      "cell_type": "markdown",
      "source": [
        "Percentiles segment our data into segments of different sizes in which we have the same number of samples. Instead, frequency tables segment our data into segments that measure the same thing but contain a different number of samples.\n",
        "\n",
        "This can give us another perspective on our data that is also very useful. We are going to learn how to generate a frequency table using pandas.\n"
      ],
      "metadata": {
        "id": "zjrSGXSs71T3"
      }
    },
    {
      "cell_type": "code",
      "source": [
        "df.head()\n"
      ],
      "metadata": {
        "id": "5FWZX3bD72Ef"
      },
      "execution_count": null,
      "outputs": []
    },
    {
      "cell_type": "code",
      "source": [
        "prices = df['price']\n",
        "prices.max() - prices.min()"
      ],
      "metadata": {
        "id": "sHfg52lS8O49"
      },
      "execution_count": null,
      "outputs": []
    },
    {
      "cell_type": "code",
      "source": [
        "pd.cut(prices, 20)\n"
      ],
      "metadata": {
        "id": "uWWZ5Xqu8pWw"
      },
      "execution_count": null,
      "outputs": []
    },
    {
      "cell_type": "code",
      "source": [
        "segments = pd.cut(prices, 20)\n",
        "\n",
        "df['price'].groupby(segments).count()\n"
      ],
      "metadata": {
        "id": "vXMdB7tW8w3L"
      },
      "execution_count": null,
      "outputs": []
    },
    {
      "cell_type": "markdown",
      "source": [
        "And ready! We have a table where the indices are the 20 bins our dataset was divided into, and the values ​​in the table are the counts for each grouping. In this way, outliers are even more evident, since we can see several segments where the number of samples is very low.\n"
      ],
      "metadata": {
        "id": "VUTLa4xv861h"
      }
    },
    {
      "cell_type": "markdown",
      "source": [
        "###**Histograms**\n"
      ],
      "metadata": {
        "id": "BH3Qo5mw9IvI"
      }
    },
    {
      "cell_type": "markdown",
      "source": [
        "Histograms are a way to visualize our frequency tables.\n",
        "\n",
        "The x-axis is the range of our data and is divided by segments (like the ones we generated in the last Example).\n",
        "\n",
        "The y-axis indicates the count of samples in each segment.\n"
      ],
      "metadata": {
        "id": "5FaSj4Jp9LOR"
      }
    },
    {
      "cell_type": "code",
      "source": [
        "normal = np.random.normal(loc=0, scale=5, size=10000)\n"
      ],
      "metadata": {
        "id": "En8yUUVz924H"
      },
      "execution_count": null,
      "outputs": []
    },
    {
      "cell_type": "code",
      "source": [
        "sns.distplot(normal, kde=False, norm_hist=False);\n"
      ],
      "metadata": {
        "id": "YWi1GBwa_44a"
      },
      "execution_count": null,
      "outputs": []
    },
    {
      "cell_type": "code",
      "source": [
        "tail = np.array([2, 2, 3, 3, 3, 3, 3, 3, 4, 4, 4, 4, 4, 4, 4, 4, 5, 5, 5, 5, 5, 5, 5, 5, 6, 6, 6, 6, 6, 6, 6, 7, 7, 7, 7, 7, 8, 8, 8])"
      ],
      "metadata": {
        "id": "hEAbMly6AC3n"
      },
      "execution_count": null,
      "outputs": []
    },
    {
      "cell_type": "code",
      "source": [
        "sns.distplot(tail, kde=False, norm_hist=False, bins=7);\n"
      ],
      "metadata": {
        "id": "Q8nex-c0AE8c"
      },
      "execution_count": null,
      "outputs": []
    },
    {
      "cell_type": "code",
      "source": [
        "positive_skewness = np.random.exponential(scale=1.0, size=10000)\n"
      ],
      "metadata": {
        "id": "Awa0XarxAl38"
      },
      "execution_count": null,
      "outputs": []
    },
    {
      "cell_type": "code",
      "source": [
        "sns.distplot(positive_skewness, kde=False, norm_hist=False);\n"
      ],
      "metadata": {
        "id": "pwy4lYkHA_VZ"
      },
      "execution_count": null,
      "outputs": []
    },
    {
      "cell_type": "code",
      "source": [
        "normal_left = np.random.normal(loc=-2.5, scale=1, size=10000)\n",
        "normal_right = np.random.normal(loc=2.5, scale=1, size=10000)\n",
        "bimodal = np.concatenate([normal_left, normal_right])\n"
      ],
      "metadata": {
        "id": "DsVMtyUtBGOY"
      },
      "execution_count": null,
      "outputs": []
    },
    {
      "cell_type": "code",
      "source": [
        "sns.distplot(bimodal, kde=False, norm_hist=False);\n"
      ],
      "metadata": {
        "id": "Unrzw4afBIfF"
      },
      "execution_count": null,
      "outputs": []
    },
    {
      "cell_type": "markdown",
      "source": [
        "### **Density plots**\n"
      ],
      "metadata": {
        "id": "NfPRkYEQCTDi"
      }
    },
    {
      "cell_type": "markdown",
      "source": [
        "We can obtain density plots using Seaborn's distplot method, just by changing the arguments we pass to it:\n"
      ],
      "metadata": {
        "id": "204KdnlmCaQ7"
      }
    },
    {
      "cell_type": "code",
      "source": [
        "import numpy as np\n",
        "import seaborn as sns\n",
        "\n",
        "sns.set(style='whitegrid')"
      ],
      "metadata": {
        "id": "YrK63tU-Cd8P"
      },
      "execution_count": null,
      "outputs": []
    },
    {
      "cell_type": "code",
      "source": [
        "laplace = np.random.laplace(loc=0.0, scale=1, size=10000)\n",
        "sns.distplot(laplace, hist=False);\n"
      ],
      "metadata": {
        "id": "dIIDGMUUDdYI"
      },
      "execution_count": null,
      "outputs": []
    },
    {
      "cell_type": "code",
      "source": [
        "chisquare = np.random.chisquare(4, size=10000)\n",
        "sns.distplot(chisquare, hist=False)\n"
      ],
      "metadata": {
        "id": "DiQ_DDLQDlSw"
      },
      "execution_count": null,
      "outputs": []
    },
    {
      "cell_type": "code",
      "source": [
        "sns.set(style='white')\n",
        "\n",
        "normal_1 = np.random.normal(loc=-2, scale=3, size=10000)\n",
        "normal_2 = np.random.normal(loc=4.5, scale=1, size=10000)\n",
        "exponential = np.random.exponential(scale=1.0, size=10000) - 1\n",
        "\n",
        "sns.distplot(normal_1, hist = False, kde_kws = {'shade': True})\n",
        "sns.distplot(normal_2, hist = False, kde_kws = {'shade': True})\n",
        "sns.distplot(exponential, hist = False, kde_kws = {'shade': True})"
      ],
      "metadata": {
        "id": "3Y9c-y0fDp39"
      },
      "execution_count": null,
      "outputs": []
    },
    {
      "cell_type": "markdown",
      "source": [
        "As you can see, using density plots we get a lot of clarity in the comparison. In this example we add the flag kde_kws = {'shade': True} to get the fill color of each layout. In a later session we will learn how to style our charts in depth.\n"
      ],
      "metadata": {
        "id": "po6c9Z3pDwpm"
      }
    },
    {
      "cell_type": "markdown",
      "source": [
        "### **Annotating our graphs**\n"
      ],
      "metadata": {
        "id": "9kpdY-QUD6UC"
      }
    },
    {
      "cell_type": "markdown",
      "source": [
        "A data scientist is a communicator, and as such it is very important that we can generate understandable and easy-to-interpret graphs so that the information we find can be transmitted.\n"
      ],
      "metadata": {
        "id": "Qp7Fqx1DD8sb"
      }
    },
    {
      "cell_type": "code",
      "source": [
        "import pandas as pd\n",
        "import matplotlib.pyplot as plt\n",
        "import seaborn as sns\n",
        "sns.set(style='white')"
      ],
      "metadata": {
        "id": "uXe0DK-5FMBk"
      },
      "execution_count": null,
      "outputs": []
    },
    {
      "cell_type": "code",
      "source": [
        "df = pd.read_csv('../../Datasets/athlete_olympic_events-clean.csv', index_col=0)\n",
        "\n",
        "df.head()"
      ],
      "metadata": {
        "id": "3jAMyJaGFQNJ"
      },
      "execution_count": null,
      "outputs": []
    },
    {
      "cell_type": "markdown",
      "source": [
        "Adding titles and names for our axes is as easy as calling the set method. Previously we had been calling our Seaborn methods without assigning the results to any variables. If we assign our result to the variable ax, we can now call that variable's set method to annotate our graph:\n"
      ],
      "metadata": {
        "id": "HpojfinkFVKD"
      }
    },
    {
      "cell_type": "code",
      "source": [
        "ax = sns.distplot(df['age'], kde=False, norm_hist=False)\n",
        "ax.set(title='Age of the athletes', xlabel='Age', ylabel='Count');\n"
      ],
      "metadata": {
        "id": "_uBiYjSgFVqd"
      },
      "execution_count": null,
      "outputs": []
    },
    {
      "cell_type": "markdown",
      "source": [
        "In the event that we have two or more graphs (or categories) at the same time, we can add a legend to our graph to be able to differentiate our data:\n"
      ],
      "metadata": {
        "id": "oQBijXN7GN34"
      }
    },
    {
      "cell_type": "code",
      "source": [
        "by_athlete = df.groupby(level=0)[['age', 'height', 'weight']].mean()\n",
        "sex = df.groupby(level=0)['sex'].last()\n",
        "merged = by_athlete.merge(sex, left_index=True, right_index=True)\n",
        "males = by_athlete[merged['sex'] == 'M']\n",
        "females = by_athlete[merged['sex'] == 'F']"
      ],
      "metadata": {
        "id": "IytfNYFUGQtN"
      },
      "execution_count": null,
      "outputs": []
    },
    {
      "cell_type": "code",
      "source": [
        "ax = sns.distplot(males['height'], hist=False, kde_kws = {'shade': True}, label='men')\n",
        "sns.distplot(females['height'], hist=False, kde_kws = {'shade': True}, ax=ax, label='women')\n",
        "ax.set_title('Height distributions of male and female athletes', fontsize=13, pad=15);\n",
        "ax.set(xlabel='height');\n",
        "ax.legend(loc='upper right');"
      ],
      "metadata": {
        "id": "xfsqIqmvGRle"
      },
      "execution_count": null,
      "outputs": []
    },
    {
      "cell_type": "markdown",
      "source": [
        "Every time you create a new plot with seaborn, this plot is contained within something we call figures in matplotlib. A figure can contain multiple graphs. Every time you generate a graph with seaborn, a new figure is generated automatically. We can manually generate the figure and then use it to customize our graph. To determine the size of our graph we can do the following:\n"
      ],
      "metadata": {
        "id": "PHPk5LpvIOU1"
      }
    },
    {
      "cell_type": "code",
      "source": [
        "fig = plt.figure(figsize=(10, 10))\n",
        "ax = sns.distplot(df['age'], kde=False, norm_hist=False)\n",
        "ax.set_title('Ages of athletes who participated in the Olympic Games', fontsize=20, pad=15)\n",
        "ax.set(xlabel='age', ylabel='count');"
      ],
      "metadata": {
        "id": "Uz-LO8hOIOe0"
      },
      "execution_count": null,
      "outputs": []
    },
    {
      "cell_type": "markdown",
      "source": [
        "### **Bar charts**\n"
      ],
      "metadata": {
        "id": "sNv1j0TZIhtT"
      }
    },
    {
      "cell_type": "code",
      "source": [
        "import pandas as pd\n",
        "import seaborn as sns\n",
        "sns.set_style('white')"
      ],
      "metadata": {
        "id": "DEKE4OicIkOl"
      },
      "execution_count": null,
      "outputs": []
    },
    {
      "cell_type": "code",
      "source": [
        "df = pd.read_json('../../Datasets/zomato_reviews-clean.json')\n",
        "\n",
        "df.head()"
      ],
      "metadata": {
        "id": "qLblx5tEImpj"
      },
      "execution_count": null,
      "outputs": []
    },
    {
      "cell_type": "code",
      "source": [
        "df['user_rating'].unique()\n"
      ],
      "metadata": {
        "id": "FLi3oykoIyRQ"
      },
      "execution_count": null,
      "outputs": []
    },
    {
      "cell_type": "code",
      "source": [
        "df['user_rating'].nunique()\n"
      ],
      "metadata": {
        "id": "oy3HJ60SI0BT"
      },
      "execution_count": null,
      "outputs": []
    },
    {
      "cell_type": "code",
      "source": [
        "df['user_rating'].value_counts()\n"
      ],
      "metadata": {
        "id": "x6jkRdpGI16P"
      },
      "execution_count": null,
      "outputs": []
    },
    {
      "cell_type": "code",
      "source": [
        "counts = df['user_rating'].value_counts()\n"
      ],
      "metadata": {
        "id": "gV4y6UKwI3oY"
      },
      "execution_count": null,
      "outputs": []
    },
    {
      "cell_type": "code",
      "source": [
        "ax = sns.barplot(counts.index, counts)\n",
        "ax.set_title('Restaurant Rating Count')\n",
        "ax.set(ylabel='count');"
      ],
      "metadata": {
        "id": "dZP4SrBkI6k7"
      },
      "execution_count": null,
      "outputs": []
    },
    {
      "cell_type": "code",
      "source": [
        "as_percentages = counts * 100 / counts.sum()\n"
      ],
      "metadata": {
        "id": "ilsOERbfI-Py"
      },
      "execution_count": null,
      "outputs": []
    },
    {
      "cell_type": "code",
      "source": [
        "ax = sns.barplot(as_percentages.index, as_percentages)\n",
        "ax.set_title('Count Restaurant Ratings (as percentages)')\n",
        "ax.set(ylabel='percent of total');\n"
      ],
      "metadata": {
        "id": "ekJdasA0JBwf"
      },
      "execution_count": null,
      "outputs": []
    },
    {
      "cell_type": "code",
      "source": [
        "ax = sns.barplot(as_percentages.index, as_percentages)\n",
        "ax.set_title('Count Restaurant Ratings (as percentages)')\n",
        "ax.set(ylabel='percent of total')\n",
        "ax.set_xticklabels(ax.get_xticklabels(), rotation=50);\n"
      ],
      "metadata": {
        "id": "A6_jPaXjJFOl"
      },
      "execution_count": null,
      "outputs": []
    },
    {
      "cell_type": "code",
      "source": [
        "ax = sns.barplot(as_percentages, as_percentages.index, orient='h')\n",
        "ax.set_title('Count Restaurant Ratings (as percentages)')\n",
        "ax.set(xlabel='percent of total')\n"
      ],
      "metadata": {
        "id": "FnJXs1JRJKTC"
      },
      "execution_count": null,
      "outputs": []
    },
    {
      "cell_type": "code",
      "source": [
        "df['user_rating'].mode()\n"
      ],
      "metadata": {
        "id": "Hwp7QBvdJU1W"
      },
      "execution_count": null,
      "outputs": []
    },
    {
      "cell_type": "markdown",
      "source": [
        "### **Violinplots**"
      ],
      "metadata": {
        "id": "kkSiMZsoJ4Sp"
      }
    },
    {
      "cell_type": "code",
      "source": [
        "import pandas as pd\n",
        "import seaborn as sns\n",
        "import matplotlib.pyplot as plt\n",
        "sns.set_style('white')"
      ],
      "metadata": {
        "id": "xHyKk0JtJ8zG"
      },
      "execution_count": null,
      "outputs": []
    },
    {
      "cell_type": "code",
      "source": [
        "df = pd.read_csv('../../Datasets/athlete_olympic_events-clean.csv', index_col=0)\n",
        "\n",
        "df.head()"
      ],
      "metadata": {
        "id": "f-uQcUqZJ-J8"
      },
      "execution_count": null,
      "outputs": []
    },
    {
      "cell_type": "code",
      "source": [
        "by_athlete = df.groupby(level=0)[['age', 'height', 'weight']].mean()\n",
        "sex = df.groupby(level=0)['sex'].last()\n",
        "merged = by_athlete.merge(sex, left_index=True, right_index=True)"
      ],
      "metadata": {
        "id": "qlKmw23eKFue"
      },
      "execution_count": null,
      "outputs": []
    },
    {
      "cell_type": "code",
      "source": [
        "merged"
      ],
      "metadata": {
        "id": "ohFdkR11Kw34"
      },
      "execution_count": null,
      "outputs": []
    },
    {
      "cell_type": "code",
      "source": [
        "sns.boxplot(df['weight'])\n"
      ],
      "metadata": {
        "id": "tb9hTi5_K018"
      },
      "execution_count": null,
      "outputs": []
    },
    {
      "cell_type": "code",
      "source": [
        "plt.figure(figsize=(5, 10))\n",
        "sns.boxplot(data=merged, x='sex', y='weight');\n"
      ],
      "metadata": {
        "id": "CLSyQdTEK2-O"
      },
      "execution_count": null,
      "outputs": []
    },
    {
      "cell_type": "code",
      "source": [
        "plt.figure(figsize=(5, 10))\n",
        "sns.violinplot(data=merged, x='sex', y='weight');\n"
      ],
      "metadata": {
        "id": "2LCnF7J1K5X6"
      },
      "execution_count": null,
      "outputs": []
    }
  ]
}