{
  "nbformat": 4,
  "nbformat_minor": 0,
  "metadata": {
    "colab": {
      "name": "Untitled31.ipynb",
      "provenance": []
    },
    "kernelspec": {
      "name": "python3",
      "display_name": "Python 3"
    },
    "language_info": {
      "name": "python"
    }
  },
  "cells": [
    {
      "cell_type": "markdown",
      "source": [
        "**ACTIVITY 1**"
      ],
      "metadata": {
        "id": "6g1jsYPx61EN"
      }
    },
    {
      "cell_type": "markdown",
      "source": [
        "Let's imagine that we are analyzing a data set that contains the annual sales in dollars of some salespeople who work in our company. We obtain the total annual sales in dollars and we have it assigned to the variable sales_annual_totals. Write a control structure that tells us how much our employee's bonus is going to be.\n",
        "\n",
        "- If the sales are greater than 1,000,000, the bonus will be 20% of the salary \n",
        "\n",
        "- If they are between 700,000 and 1,000,000, the bonus will be 15% of the salary\n",
        "\n",
        "- Between 400,000 and 700,000 the bonus will be 10% of salary\n",
        " \n",
        "- Between 100,00 and 400,000 the bonus will be 5% of salary; and below $100,000 the bonus will be 1% of salary.\n",
        "\n",
        "Write your control structure and for now (we'll have more tools later to make this more interesting) print a string saying how much the bonus is going to be."
      ],
      "metadata": {
        "id": "lxcUgVIT64BS"
      }
    },
    {
      "cell_type": "markdown",
      "source": [
        "Optional challenge: Add a variable salary that is the salary of your employee and add the bonus percentage to that variable depending on the condition that is met. Then to the end it prints an interpolated string that says something like \"Congratulations, your salary is x; your bonus is x; and the total salary with the bonus included is x\". For this to work you must also add a variable where you store the bonus amount!"
      ],
      "metadata": {
        "id": "aQJ6Ghps8qzj"
      }
    },
    {
      "cell_type": "code",
      "source": [
        "total_annual_sales = # This value can be changed to get different results\n",
        "\n",
        "# OPTIONAL\n",
        "# salary = write here the floor of your employee"
      ],
      "metadata": {
        "id": "IgXk8PNo84E8"
      },
      "execution_count": null,
      "outputs": []
    },
    {
      "cell_type": "code",
      "source": [
        "# Write your code here\n",
        "# ...\n",
        "# ..."
      ],
      "metadata": {
        "id": "o_y28I1D9AE3"
      },
      "execution_count": null,
      "outputs": []
    },
    {
      "cell_type": "markdown",
      "source": [
        "**ACTIVITY 2**"
      ],
      "metadata": {
        "id": "FAWOKNoh9c1W"
      }
    },
    {
      "cell_type": "markdown",
      "source": [
        "Powers of 2 are extremely important in the computational world. Since computers work with binary language, much of the internal workings of computers work with powers of 2. Here is a small sample of the first few powers of 2:\n"
      ],
      "metadata": {
        "id": "mPKwHGMH9e1v"
      }
    },
    {
      "cell_type": "markdown",
      "source": [
        "\n",
        "- 2^0 = 1\n",
        "\n",
        "- 2^1 = 2\n",
        "-2^2 = 4\n",
        "-2^3 = 8\n",
        "-2^4 = 16\n",
        "-2^5 = 32\n",
        "-2^6 = 64\n",
        "-2^7 = 128\n",
        "-2^8 = 256"
      ],
      "metadata": {
        "id": "uX4LhGTA92NI"
      }
    },
    {
      "cell_type": "markdown",
      "source": [
        "Your challenge is to complete the power_of_two function. This function takes the exponent (the small number next to 2) and returns the result of 2 raised to that power. The detail is that you cannot use any operator or function that computes exponents (such as ** or np.power), but you have to perform the calculation using 1 if block and 1 for loop. Complete the code below.\n"
      ],
      "metadata": {
        "id": "sXddLKMQ-E3e"
      }
    },
    {
      "cell_type": "code",
      "source": [
        "def power_of_two(exponent):\n",
        "    \n",
        "    result = 2\n",
        "    \n",
        "    ## Your code goes here\n",
        "        \n",
        "    return result"
      ],
      "metadata": {
        "id": "tLzi5Mey-Lsj"
      },
      "execution_count": null,
      "outputs": []
    },
    {
      "cell_type": "code",
      "source": [
        ""
      ],
      "metadata": {
        "id": "vVk4bbaZ-RWP"
      },
      "execution_count": null,
      "outputs": []
    }
  ]
}