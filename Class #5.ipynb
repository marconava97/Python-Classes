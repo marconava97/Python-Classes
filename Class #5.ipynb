{
  "nbformat": 4,
  "nbformat_minor": 0,
  "metadata": {
    "colab": {
      "name": "Untitled14.ipynb",
      "provenance": []
    },
    "kernelspec": {
      "name": "python3",
      "display_name": "Python 3"
    },
    "language_info": {
      "name": "python"
    }
  },
  "cells": [
    {
      "cell_type": "markdown",
      "source": [
        "Pandas and Exploratory Data Analysis"
      ],
      "metadata": {
        "id": "ZpnK_AnVdIXq"
      }
    },
    {
      "cell_type": "markdown",
      "source": [
        "**Panda series**\n"
      ],
      "metadata": {
        "id": "gs5Ls7ejduve"
      }
    },
    {
      "cell_type": "markdown",
      "source": [
        "Series are one of the two data structures offered by pandas that make our lives much easier as data scientists.\n",
        "\n",
        "Series are a kind of hybrid between lists and dictionaries."
      ],
      "metadata": {
        "id": "uMJOdzv3d3Tb"
      }
    },
    {
      "cell_type": "code",
      "source": [
        "import pandas as pd\n",
        "\n",
        "#Pandas is the \"King of Data Analysis\""
      ],
      "metadata": {
        "id": "b6f60xxiejQZ"
      },
      "execution_count": 2,
      "outputs": []
    },
    {
      "cell_type": "markdown",
      "source": [
        "One big difference from lists is that each element in a Series has an associated index that is not necessarily a sequence of integers like in lists. In this respect, our Series are similar to dictionaries:\n"
      ],
      "metadata": {
        "id": "lOPkDbQ_fN4k"
      }
    },
    {
      "cell_type": "code",
      "source": [
        "serie_1 = pd.Series([3, 7, 9, 8])\n",
        "serie_1"
      ],
      "metadata": {
        "id": "ziyc6924fOA3"
      },
      "execution_count": null,
      "outputs": []
    },
    {
      "cell_type": "markdown",
      "source": [
        "The left column is our index, the right column is the data stored in the Series. The text at the bottom is the data type we have in our Series.\n"
      ],
      "metadata": {
        "id": "0CkH28RLfcNR"
      }
    },
    {
      "cell_type": "markdown",
      "source": [
        "We can create Series with a custom index:\n"
      ],
      "metadata": {
        "id": "N59z9ivUgFzb"
      }
    },
    {
      "cell_type": "code",
      "source": [
        "serie_2 = pd.Series([4, 7, 9, 8], index=[10, 11, 12, 13])\n",
        "\n",
        "serie_2"
      ],
      "metadata": {
        "id": "B96FV4vQgADG"
      },
      "execution_count": null,
      "outputs": []
    },
    {
      "cell_type": "markdown",
      "source": [
        "We can even use strings in the index:\n"
      ],
      "metadata": {
        "id": "6Q_WabXSgHsX"
      }
    },
    {
      "cell_type": "code",
      "source": [
        "serie_3 = pd.Series([5, 8, 7, 2], index=['a', 'b', 'c', 'd'])\n",
        "\n",
        "serie_3"
      ],
      "metadata": {
        "id": "OG5qKQR0gL-W"
      },
      "execution_count": null,
      "outputs": []
    },
    {
      "cell_type": "markdown",
      "source": [
        "Due to their similarity, we can even create Series using dictionaries:\n"
      ],
      "metadata": {
        "id": "mAxJz6cGgRXf"
      }
    },
    {
      "cell_type": "code",
      "source": [
        "data = {\n",
        "    \"John\": 45,\n",
        "    \"Mark\": 56,\n",
        "    \"Tony\": 12,\n",
        "    \"Jenny\": 49,\n",
        "    \"Frame P.\": 12\n",
        "}\n",
        "\n",
        "serie_4 = pd.Series(data)\n",
        "\n",
        "serie_4"
      ],
      "metadata": {
        "id": "-OuAB2nHgSIt"
      },
      "execution_count": null,
      "outputs": []
    },
    {
      "cell_type": "markdown",
      "source": [
        "Just like in lists, we can access our data using the indexing operator. The difference is that in a Series we have to include the loc operator to tell the Series that we are accessing it using the names of the indices:\n"
      ],
      "metadata": {
        "id": "OFLiRuP0gleg"
      }
    },
    {
      "cell_type": "code",
      "source": [
        "serie_1.loc[2]\n"
      ],
      "metadata": {
        "id": "WDzjaLIvgpTC"
      },
      "execution_count": null,
      "outputs": []
    },
    {
      "cell_type": "code",
      "source": [
        "serie_2.loc[12]\n"
      ],
      "metadata": {
        "id": "HptPl2Sogsvy"
      },
      "execution_count": null,
      "outputs": []
    },
    {
      "cell_type": "code",
      "source": [
        "serie_3.loc['c']\n"
      ],
      "metadata": {
        "id": "IKjqvQdLg0p7"
      },
      "execution_count": null,
      "outputs": []
    },
    {
      "cell_type": "code",
      "source": [
        "serie_4.loc['Jenny']\n"
      ],
      "metadata": {
        "id": "rBQUJBK9g3XN"
      },
      "execution_count": null,
      "outputs": []
    },
    {
      "cell_type": "markdown",
      "source": [
        "**DataFrames**"
      ],
      "metadata": {
        "id": "zQUQHd29hWLQ"
      }
    },
    {
      "cell_type": "markdown",
      "source": [
        "DataFrames are then two-dimensional data structures. They have rows and columns. There are countless ways to create DataFrames. We are going to learn one of them: list dictionaries.\n",
        "\n",
        "Here we have a dictionary of lists:"
      ],
      "metadata": {
        "id": "4bQVc-xphYsX"
      }
    },
    {
      "cell_type": "code",
      "source": [
        "data = {\n",
        "    'column_1': [1,2,3,4,5],\n",
        "    'column_2': [6,7,8,9,10],\n",
        "    'column_3': [11,12,13,14,15],\n",
        "    'column_4': [16,17,18,19,20]}"
      ],
      "metadata": {
        "id": "4wrXeksahtSe"
      },
      "execution_count": 1,
      "outputs": []
    },
    {
      "cell_type": "markdown",
      "source": [
        "Let's convert it to a DataFrame:\n"
      ],
      "metadata": {
        "id": "u0zBM7WKiLm-"
      }
    },
    {
      "cell_type": "code",
      "source": [
        "df = pd.DataFrame(data)\n",
        "\n",
        "df\n",
        "\n"
      ],
      "metadata": {
        "colab": {
          "base_uri": "https://localhost:8080/",
          "height": 206
        },
        "id": "uJEYaUQViOQ4",
        "outputId": "4b1f73c8-e712-4936-818a-f3338081ae47"
      },
      "execution_count": 3,
      "outputs": [
        {
          "output_type": "execute_result",
          "data": {
            "text/plain": [
              "   column_1  column_2  column_3  column_4\n",
              "0         1         6        11        16\n",
              "1         2         7        12        17\n",
              "2         3         8        13        18\n",
              "3         4         9        14        19\n",
              "4         5        10        15        20"
            ],
            "text/html": [
              "\n",
              "  <div id=\"df-8ae99d92-2afc-453f-8b1e-17a4a8bc42c5\">\n",
              "    <div class=\"colab-df-container\">\n",
              "      <div>\n",
              "<style scoped>\n",
              "    .dataframe tbody tr th:only-of-type {\n",
              "        vertical-align: middle;\n",
              "    }\n",
              "\n",
              "    .dataframe tbody tr th {\n",
              "        vertical-align: top;\n",
              "    }\n",
              "\n",
              "    .dataframe thead th {\n",
              "        text-align: right;\n",
              "    }\n",
              "</style>\n",
              "<table border=\"1\" class=\"dataframe\">\n",
              "  <thead>\n",
              "    <tr style=\"text-align: right;\">\n",
              "      <th></th>\n",
              "      <th>column_1</th>\n",
              "      <th>column_2</th>\n",
              "      <th>column_3</th>\n",
              "      <th>column_4</th>\n",
              "    </tr>\n",
              "  </thead>\n",
              "  <tbody>\n",
              "    <tr>\n",
              "      <th>0</th>\n",
              "      <td>1</td>\n",
              "      <td>6</td>\n",
              "      <td>11</td>\n",
              "      <td>16</td>\n",
              "    </tr>\n",
              "    <tr>\n",
              "      <th>1</th>\n",
              "      <td>2</td>\n",
              "      <td>7</td>\n",
              "      <td>12</td>\n",
              "      <td>17</td>\n",
              "    </tr>\n",
              "    <tr>\n",
              "      <th>2</th>\n",
              "      <td>3</td>\n",
              "      <td>8</td>\n",
              "      <td>13</td>\n",
              "      <td>18</td>\n",
              "    </tr>\n",
              "    <tr>\n",
              "      <th>3</th>\n",
              "      <td>4</td>\n",
              "      <td>9</td>\n",
              "      <td>14</td>\n",
              "      <td>19</td>\n",
              "    </tr>\n",
              "    <tr>\n",
              "      <th>4</th>\n",
              "      <td>5</td>\n",
              "      <td>10</td>\n",
              "      <td>15</td>\n",
              "      <td>20</td>\n",
              "    </tr>\n",
              "  </tbody>\n",
              "</table>\n",
              "</div>\n",
              "      <button class=\"colab-df-convert\" onclick=\"convertToInteractive('df-8ae99d92-2afc-453f-8b1e-17a4a8bc42c5')\"\n",
              "              title=\"Convert this dataframe to an interactive table.\"\n",
              "              style=\"display:none;\">\n",
              "        \n",
              "  <svg xmlns=\"http://www.w3.org/2000/svg\" height=\"24px\"viewBox=\"0 0 24 24\"\n",
              "       width=\"24px\">\n",
              "    <path d=\"M0 0h24v24H0V0z\" fill=\"none\"/>\n",
              "    <path d=\"M18.56 5.44l.94 2.06.94-2.06 2.06-.94-2.06-.94-.94-2.06-.94 2.06-2.06.94zm-11 1L8.5 8.5l.94-2.06 2.06-.94-2.06-.94L8.5 2.5l-.94 2.06-2.06.94zm10 10l.94 2.06.94-2.06 2.06-.94-2.06-.94-.94-2.06-.94 2.06-2.06.94z\"/><path d=\"M17.41 7.96l-1.37-1.37c-.4-.4-.92-.59-1.43-.59-.52 0-1.04.2-1.43.59L10.3 9.45l-7.72 7.72c-.78.78-.78 2.05 0 2.83L4 21.41c.39.39.9.59 1.41.59.51 0 1.02-.2 1.41-.59l7.78-7.78 2.81-2.81c.8-.78.8-2.07 0-2.86zM5.41 20L4 18.59l7.72-7.72 1.47 1.35L5.41 20z\"/>\n",
              "  </svg>\n",
              "      </button>\n",
              "      \n",
              "  <style>\n",
              "    .colab-df-container {\n",
              "      display:flex;\n",
              "      flex-wrap:wrap;\n",
              "      gap: 12px;\n",
              "    }\n",
              "\n",
              "    .colab-df-convert {\n",
              "      background-color: #E8F0FE;\n",
              "      border: none;\n",
              "      border-radius: 50%;\n",
              "      cursor: pointer;\n",
              "      display: none;\n",
              "      fill: #1967D2;\n",
              "      height: 32px;\n",
              "      padding: 0 0 0 0;\n",
              "      width: 32px;\n",
              "    }\n",
              "\n",
              "    .colab-df-convert:hover {\n",
              "      background-color: #E2EBFA;\n",
              "      box-shadow: 0px 1px 2px rgba(60, 64, 67, 0.3), 0px 1px 3px 1px rgba(60, 64, 67, 0.15);\n",
              "      fill: #174EA6;\n",
              "    }\n",
              "\n",
              "    [theme=dark] .colab-df-convert {\n",
              "      background-color: #3B4455;\n",
              "      fill: #D2E3FC;\n",
              "    }\n",
              "\n",
              "    [theme=dark] .colab-df-convert:hover {\n",
              "      background-color: #434B5C;\n",
              "      box-shadow: 0px 1px 3px 1px rgba(0, 0, 0, 0.15);\n",
              "      filter: drop-shadow(0px 1px 2px rgba(0, 0, 0, 0.3));\n",
              "      fill: #FFFFFF;\n",
              "    }\n",
              "  </style>\n",
              "\n",
              "      <script>\n",
              "        const buttonEl =\n",
              "          document.querySelector('#df-8ae99d92-2afc-453f-8b1e-17a4a8bc42c5 button.colab-df-convert');\n",
              "        buttonEl.style.display =\n",
              "          google.colab.kernel.accessAllowed ? 'block' : 'none';\n",
              "\n",
              "        async function convertToInteractive(key) {\n",
              "          const element = document.querySelector('#df-8ae99d92-2afc-453f-8b1e-17a4a8bc42c5');\n",
              "          const dataTable =\n",
              "            await google.colab.kernel.invokeFunction('convertToInteractive',\n",
              "                                                     [key], {});\n",
              "          if (!dataTable) return;\n",
              "\n",
              "          const docLinkHtml = 'Like what you see? Visit the ' +\n",
              "            '<a target=\"_blank\" href=https://colab.research.google.com/notebooks/data_table.ipynb>data table notebook</a>'\n",
              "            + ' to learn more about interactive tables.';\n",
              "          element.innerHTML = '';\n",
              "          dataTable['output_type'] = 'display_data';\n",
              "          await google.colab.output.renderOutput(dataTable, element);\n",
              "          const docLink = document.createElement('div');\n",
              "          docLink.innerHTML = docLinkHtml;\n",
              "          element.appendChild(docLink);\n",
              "        }\n",
              "      </script>\n",
              "    </div>\n",
              "  </div>\n",
              "  "
            ]
          },
          "metadata": {},
          "execution_count": 3
        }
      ]
    },
    {
      "cell_type": "code",
      "source": [
        "df = pd.DataFrame(data, index=['a', 'b', 'c', 'd', 'e'])\n",
        "\n",
        "df"
      ],
      "metadata": {
        "id": "AF6MO0Tqift6"
      },
      "execution_count": null,
      "outputs": []
    },
    {
      "cell_type": "markdown",
      "source": [
        "\n",
        "To look at individual columns, we use the indexing operator and pass it the column name:"
      ],
      "metadata": {
        "id": "CZhD-QiYinf0"
      }
    },
    {
      "cell_type": "code",
      "source": [
        "df['column_1']\n"
      ],
      "metadata": {
        "colab": {
          "base_uri": "https://localhost:8080/"
        },
        "id": "3X6B_Nw5ky-g",
        "outputId": "14f0a7b8-5901-4454-df95-468e30798b46"
      },
      "execution_count": 4,
      "outputs": [
        {
          "output_type": "execute_result",
          "data": {
            "text/plain": [
              "0    1\n",
              "1    2\n",
              "2    3\n",
              "3    4\n",
              "4    5\n",
              "Name: column_1, dtype: int64"
            ]
          },
          "metadata": {},
          "execution_count": 4
        }
      ]
    },
    {
      "cell_type": "markdown",
      "source": [
        "\n",
        "The column we got is a pandas Series with a Name property.\n",
        "\n",
        "We can also see more than one column by passing a list with the names of the columns we want in the order we want them:"
      ],
      "metadata": {
        "id": "6IcSP2pKk1ln"
      }
    },
    {
      "cell_type": "code",
      "source": [
        "df[['column_3', 'column_1']]"
      ],
      "metadata": {
        "id": "n_CnG18ElNcR"
      },
      "execution_count": null,
      "outputs": []
    },
    {
      "cell_type": "markdown",
      "source": [
        "We use the words observe or see because indexing columns does not return a copy of those columns, but only a \"view\" of those columns, as if we were looking at them through a window.\n"
      ],
      "metadata": {
        "id": "a4BWEIPsllkW"
      }
    },
    {
      "cell_type": "code",
      "source": [
        "df.loc['a']"
      ],
      "metadata": {
        "id": "Ffih6kQklox2"
      },
      "execution_count": null,
      "outputs": []
    },
    {
      "cell_type": "code",
      "source": [
        "df.loc[['c', 'a']]\n"
      ],
      "metadata": {
        "id": "63ZnmQ5zl4Kk"
      },
      "execution_count": null,
      "outputs": []
    },
    {
      "cell_type": "code",
      "source": [
        "df.loc['b':]\n"
      ],
      "metadata": {
        "id": "nW9pEXRbl6Li"
      },
      "execution_count": null,
      "outputs": []
    },
    {
      "cell_type": "code",
      "source": [
        "df.loc[['e', 'c'], ['column_4', 'column_2']]\n"
      ],
      "metadata": {
        "id": "6ZEOwnTil-D4"
      },
      "execution_count": null,
      "outputs": []
    },
    {
      "cell_type": "markdown",
      "source": [
        "**JSON FILES**"
      ],
      "metadata": {
        "id": "igAjHWe9mqnJ"
      }
    },
    {
      "cell_type": "markdown",
      "source": [
        "One of the most common formats in which we are going to find data sets is the JSON format. As you probably already know, the JSON format is quite similar to the format of Python dictionaries:\n"
      ],
      "metadata": {
        "id": "zvShaUkSmtJj"
      }
    },
    {
      "cell_type": "markdown",
      "source": [
        "We are going to learn how to read JSON files and convert them to DataFrames.\n"
      ],
      "metadata": {
        "id": "1_YNAznunAoJ"
      }
    },
    {
      "cell_type": "code",
      "source": [
        "import json\n"
      ],
      "metadata": {
        "id": "5mIUnWphm0HC"
      },
      "execution_count": 5,
      "outputs": []
    },
    {
      "cell_type": "code",
      "source": [
        "from google.colab import files \n",
        "  \n",
        "  \n",
        "f = files.upload()"
      ],
      "metadata": {
        "colab": {
          "resources": {
            "http://localhost:8080/nbextensions/google.colab/files.js": {
              "data": "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",
              "ok": true,
              "headers": [
                [
                  "content-type",
                  "application/javascript"
                ]
              ],
              "status": 200,
              "status_text": ""
            }
          },
          "base_uri": "https://localhost:8080/",
          "height": 73
        },
        "id": "v1sg826fn108",
        "outputId": "dfa0cc1e-bf63-4b78-febb-8ffc15b409ea"
      },
      "execution_count": 10,
      "outputs": [
        {
          "output_type": "display_data",
          "data": {
            "text/plain": [
              "<IPython.core.display.HTML object>"
            ],
            "text/html": [
              "\n",
              "     <input type=\"file\" id=\"files-b34d82f4-fcc4-412f-bc45-a54339eebbb1\" name=\"files[]\" multiple disabled\n",
              "        style=\"border:none\" />\n",
              "     <output id=\"result-b34d82f4-fcc4-412f-bc45-a54339eebbb1\">\n",
              "      Upload widget is only available when the cell has been executed in the\n",
              "      current browser session. Please rerun this cell to enable.\n",
              "      </output>\n",
              "      <script src=\"/nbextensions/google.colab/files.js\"></script> "
            ]
          },
          "metadata": {}
        },
        {
          "output_type": "stream",
          "name": "stdout",
          "text": [
            "Saving zomato_reviews-raw.json to zomato_reviews-raw (1).json\n"
          ]
        }
      ]
    },
    {
      "cell_type": "code",
      "source": [
        "f = open('zomato_reviews-raw.json', 'r')\n"
      ],
      "metadata": {
        "id": "SjfDVrGmnIOQ"
      },
      "execution_count": 15,
      "outputs": []
    },
    {
      "cell_type": "markdown",
      "source": [
        "We then convert our JSON file into a Python dictionary:\n"
      ],
      "metadata": {
        "id": "WFKJZhwKriiA"
      }
    },
    {
      "cell_type": "code",
      "source": [
        "json_data = json.load(f)\n"
      ],
      "metadata": {
        "id": "PONIXdZMrmVE"
      },
      "execution_count": 16,
      "outputs": []
    },
    {
      "cell_type": "markdown",
      "source": [
        "Then we close our file:\n"
      ],
      "metadata": {
        "id": "7ODngr9fsHLO"
      }
    },
    {
      "cell_type": "code",
      "source": [
        "f.close()\n"
      ],
      "metadata": {
        "id": "fF4n7ji6sKuw"
      },
      "execution_count": 17,
      "outputs": []
    },
    {
      "cell_type": "markdown",
      "source": [
        "And finally we pass the dictionary to pandas.DataFrame.from_dict to create a DataFrame:\n"
      ],
      "metadata": {
        "id": "vWDy1Ke7sRHJ"
      }
    },
    {
      "cell_type": "code",
      "source": [
        "df = pd.DataFrame.from_dict(json_data)\n"
      ],
      "metadata": {
        "id": "4h6PxFKXtpU5"
      },
      "execution_count": 20,
      "outputs": []
    },
    {
      "cell_type": "code",
      "source": [
        "df"
      ],
      "metadata": {
        "id": "A6GC_mn_tuK4"
      },
      "execution_count": null,
      "outputs": []
    },
    {
      "cell_type": "markdown",
      "source": [
        "**Concat with DataFrames**\n"
      ],
      "metadata": {
        "id": "e9KP1ivl05fK"
      }
    },
    {
      "cell_type": "markdown",
      "source": [
        "Many times we will have Series or DataFrames that we want to join in a single structure. For that we can use pd.concat. By concatenating Series, we can do the following:\n"
      ],
      "metadata": {
        "id": "9q7EwuqW19-r"
      }
    },
    {
      "cell_type": "code",
      "source": [
        "serie_1 = pd.Series([1, 2, 3], index=['a', 'b', 'c'])\n",
        "serie_2 = pd.Series([4, 5, 6], index=['d', 'f', 'e'])"
      ],
      "metadata": {
        "id": "7iQRDb7-2PTa"
      },
      "execution_count": null,
      "outputs": []
    },
    {
      "cell_type": "code",
      "source": [
        "pd.concat([serie_1, serie_2], axis=0)\n"
      ],
      "metadata": {
        "id": "ilu_DTFz2R1t"
      },
      "execution_count": null,
      "outputs": []
    },
    {
      "cell_type": "markdown",
      "source": [
        "We can also concatenate horizontally:\n"
      ],
      "metadata": {
        "id": "cTx-D_9n2YFZ"
      }
    },
    {
      "cell_type": "code",
      "source": [
        "pd.concat([serie_1, serie_2], axis=1)\n"
      ],
      "metadata": {
        "id": "THSvpRSR2Y-d"
      },
      "execution_count": null,
      "outputs": []
    },
    {
      "cell_type": "markdown",
      "source": [
        "We can name our columns to identify each one"
      ],
      "metadata": {
        "id": "kbCsmWiu3LsI"
      }
    },
    {
      "cell_type": "code",
      "source": [
        "pd.concat([serie_1, serie_2], axis=1, keys=['serie_1', 'serie_2'])\n"
      ],
      "metadata": {
        "id": "3ntG7Nvt3OBb"
      },
      "execution_count": null,
      "outputs": []
    },
    {
      "cell_type": "markdown",
      "source": [
        "This happens if we concatenate horizontally using the same index:\n"
      ],
      "metadata": {
        "id": "ctOZCJSK301P"
      }
    },
    {
      "cell_type": "code",
      "source": [
        "serie_3 = pd.Series([7, 8, 9], index=['a', 'b', 'c'])\n",
        "\n",
        "pd.concat([serie_1, serie_3], axis=1, keys=['serie_1', 'serie_3'])"
      ],
      "metadata": {
        "id": "u5_Nv3oZ33AX"
      },
      "execution_count": null,
      "outputs": []
    },
    {
      "cell_type": "markdown",
      "source": [
        "If we vertically concatenate two Series that share the index, we have the problem of not being able to differentiate the indices:\n"
      ],
      "metadata": {
        "id": "vqy61QTc38hH"
      }
    },
    {
      "cell_type": "code",
      "source": [
        "pd.concat([serie_1, serie_3], axis=0)\n"
      ],
      "metadata": {
        "id": "CsUTf5Yv39Ip"
      },
      "execution_count": null,
      "outputs": []
    },
    {
      "cell_type": "markdown",
      "source": [
        "Sometimes we want this, but when we don't, we can add a second index level to make a difference:\n"
      ],
      "metadata": {
        "id": "W9zcAtT-49dP"
      }
    },
    {
      "cell_type": "code",
      "source": [
        "pd.concat([serie_1, serie_3], axis=0, keys=['serie_1', 'serie_3'])\n"
      ],
      "metadata": {
        "id": "U-v05xUS5Ah1"
      },
      "execution_count": null,
      "outputs": []
    },
    {
      "cell_type": "markdown",
      "source": [
        "This is called a Multi-Index. We can access a multiindex at only one level or at both:\n"
      ],
      "metadata": {
        "id": "8pWd83s05aKx"
      }
    },
    {
      "cell_type": "code",
      "source": [
        "series_concat = pd.concat([serie_1, serie_3], axis=0, keys=['serie_1', 'serie_3'])\n"
      ],
      "metadata": {
        "id": "vaawDdXo5juC"
      },
      "execution_count": null,
      "outputs": []
    },
    {
      "cell_type": "code",
      "source": [
        "series_concat.loc['serie_1']\n"
      ],
      "metadata": {
        "id": "1o2qSd9l5nDa"
      },
      "execution_count": null,
      "outputs": []
    },
    {
      "cell_type": "code",
      "source": [
        "series_concat.loc[('serie_1', 'b')]\n"
      ],
      "metadata": {
        "id": "wOg1SPjf5pQK"
      },
      "execution_count": null,
      "outputs": []
    },
    {
      "cell_type": "markdown",
      "source": [
        "The same concatenation principles apply to both Series and DataFrames. We are going to see them in action and do a practice so that everything is super clear.\n"
      ],
      "metadata": {
        "id": "SRXisazg5v8m"
      }
    },
    {
      "cell_type": "code",
      "source": [
        "data_1 = {\n",
        "    'column_1': [1, 2, 3],\n",
        "    'column_2': [4, 5, 6]\n",
        "}\n",
        "\n",
        "df_1 = pd.DataFrame(data_1, index=['a', 'b', 'c'])\n",
        "\n",
        "df_1"
      ],
      "metadata": {
        "id": "_XJzX2uy53mS"
      },
      "execution_count": null,
      "outputs": []
    },
    {
      "cell_type": "code",
      "source": [
        "data_2 = {\n",
        "    'column_1': [7, 8, 9],\n",
        "    'column_2': [10, 11, 12]\n",
        "}\n",
        "\n",
        "df_2 = pd.DataFrame(data_1, index=['d', 'e', 'f'])\n",
        "\n",
        "df_2"
      ],
      "metadata": {
        "id": "MJV1TEia68hl"
      },
      "execution_count": null,
      "outputs": []
    },
    {
      "cell_type": "markdown",
      "source": [
        "We can join them vertically:\n"
      ],
      "metadata": {
        "id": "wsvCWpQT7D85"
      }
    },
    {
      "cell_type": "code",
      "source": [
        "pd.concat([df_1, df_2], axis=0)\n"
      ],
      "metadata": {
        "id": "PcgQ3Iuj7DXZ"
      },
      "execution_count": null,
      "outputs": []
    },
    {
      "cell_type": "markdown",
      "source": [
        "Horizontally:\n"
      ],
      "metadata": {
        "id": "_8go0fUK7TxN"
      }
    },
    {
      "cell_type": "code",
      "source": [
        "pd.concat([df_1, df_2], axis=1)\n"
      ],
      "metadata": {
        "id": "lcTZwFXQ7Ucc"
      },
      "execution_count": null,
      "outputs": []
    },
    {
      "cell_type": "markdown",
      "source": [
        "If they have the same index, we avoid NaNs:\n"
      ],
      "metadata": {
        "id": "pzBGsDfj7a-v"
      }
    },
    {
      "cell_type": "code",
      "source": [
        "data_3 = {\n",
        "    'column_3': [7, 8, 9],\n",
        "    'column_4': [10, 11, 12]\n",
        "}\n",
        "\n",
        "df_3 = pd.DataFrame(data_3, index=['a', 'b', 'c'])\n",
        "\n",
        "df_3"
      ],
      "metadata": {
        "id": "bsDmjZhY7bsO"
      },
      "execution_count": null,
      "outputs": []
    },
    {
      "cell_type": "code",
      "source": [
        "pd.concat([df_1, df_3], axis=1)\n"
      ],
      "metadata": {
        "id": "pMMuym0t7jwp"
      },
      "execution_count": null,
      "outputs": []
    },
    {
      "cell_type": "markdown",
      "source": [
        "If we concatenate vertically with the same index, we cannot tell them apart:\n"
      ],
      "metadata": {
        "id": "ZKRkj8Ko7oWr"
      }
    },
    {
      "cell_type": "code",
      "source": [
        "data_4 = {\n",
        "    'column_1': [7, 8, 9],\n",
        "    'column_2': [10, 11, 12]\n",
        "}\n",
        "\n",
        "df_4 = pd.DataFrame(data_4, index=['a', 'b', 'c'])\n",
        "\n",
        "df_4"
      ],
      "metadata": {
        "id": "zlNlPUSu7p_1"
      },
      "execution_count": null,
      "outputs": []
    },
    {
      "cell_type": "code",
      "source": [
        "pd.concat([df_1, df_4], axis=0)\n"
      ],
      "metadata": {
        "id": "Ub-uTfjP7vlt"
      },
      "execution_count": null,
      "outputs": []
    },
    {
      "cell_type": "markdown",
      "source": [
        "We can add multi-indexes:\n"
      ],
      "metadata": {
        "id": "dlNZ1hgG76IC"
      }
    },
    {
      "cell_type": "code",
      "source": [
        "df_concat = pd.concat([df_1, df_4], axis=0, keys=['df_1', 'df_4'])\n",
        "\n",
        "df_concat"
      ],
      "metadata": {
        "id": "zUYeDEwU76m2"
      },
      "execution_count": null,
      "outputs": []
    },
    {
      "cell_type": "markdown",
      "source": [
        "And we can access them in the same way:\n"
      ],
      "metadata": {
        "id": "WRJqikNU8EqP"
      }
    },
    {
      "cell_type": "code",
      "source": [
        "df_concat.loc['df_1']\n"
      ],
      "metadata": {
        "id": "yMIGTzkb797_"
      },
      "execution_count": null,
      "outputs": []
    },
    {
      "cell_type": "code",
      "source": [
        "df_concat.loc[('df_1', 'b')]\n"
      ],
      "metadata": {
        "id": "Ts0v014q8KLt"
      },
      "execution_count": null,
      "outputs": []
    },
    {
      "cell_type": "markdown",
      "source": [
        "We can also join more than two DataFrames by adding them all to the list:\n"
      ],
      "metadata": {
        "id": "iurbkTHf8Osq"
      }
    },
    {
      "cell_type": "code",
      "source": [
        "pd.concat([df_1, df_2, df_3, df_4], axis=1)\n"
      ],
      "metadata": {
        "id": "KKk4p2Zh8Ozz"
      },
      "execution_count": null,
      "outputs": []
    }
  ]
}