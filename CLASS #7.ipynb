{
  "nbformat": 4,
  "nbformat_minor": 0,
  "metadata": {
    "colab": {
      "name": "Untitled21.ipynb",
      "provenance": []
    },
    "kernelspec": {
      "name": "python3",
      "display_name": "Python 3"
    },
    "language_info": {
      "name": "python"
    }
  },
  "cells": [
    {
      "cell_type": "markdown",
      "source": [
        "### **String Manipulation**\n"
      ],
      "metadata": {
        "id": "TvZSNBA8rJ2s"
      }
    },
    {
      "cell_type": "code",
      "execution_count": null,
      "metadata": {
        "id": "DPZX17EklU0J"
      },
      "outputs": [],
      "source": [
        "import pandas as pd\n"
      ]
    },
    {
      "cell_type": "code",
      "source": [
        "df = pd.read_csv('../../Datasets/new_york_times_bestsellers-dirty.csv', index_col=0)\n",
        "\n",
        "df.head()"
      ],
      "metadata": {
        "id": "_CaRTOsas-JF"
      },
      "execution_count": null,
      "outputs": []
    },
    {
      "cell_type": "markdown",
      "source": [
        "Let's start with the description column which has a 'Descr:' at the beginning of each text. If we want to remove that text we can use the replace method of the str property of that Series:\n"
      ],
      "metadata": {
        "id": "WjKfV7ODtGN0"
      }
    },
    {
      "cell_type": "code",
      "source": [
        "df['description'].str.replace('Descr:', '')\n"
      ],
      "metadata": {
        "id": "aOL4fT7UtFSQ"
      },
      "execution_count": null,
      "outputs": []
    },
    {
      "cell_type": "code",
      "source": [
        "df['description'] = df['description'].str.replace('Descr:', '')\n"
      ],
      "metadata": {
        "id": "s7TX3pI8tOYo"
      },
      "execution_count": null,
      "outputs": []
    },
    {
      "cell_type": "code",
      "source": [
        "df.loc[0, 'description']\n"
      ],
      "metadata": {
        "id": "7AzN0MHXtTB4"
      },
      "execution_count": null,
      "outputs": []
    },
    {
      "cell_type": "markdown",
      "source": [
        "As you can see, we also have empty spaces at the beginning and end of our strings. Let's remove them using strip:\n"
      ],
      "metadata": {
        "id": "jZdylajPtWvq"
      }
    },
    {
      "cell_type": "code",
      "source": [
        "df['description'].str.strip()\n"
      ],
      "metadata": {
        "id": "aBHRTjRVtXoU"
      },
      "execution_count": null,
      "outputs": []
    },
    {
      "cell_type": "code",
      "source": [
        "df['description'] = df['description'].str.strip()\n"
      ],
      "metadata": {
        "id": "SXVhRwvytbQ8"
      },
      "execution_count": null,
      "outputs": []
    },
    {
      "cell_type": "code",
      "source": [
        "df.loc[0, 'description']\n"
      ],
      "metadata": {
        "id": "ZJvdjc_ktb06"
      },
      "execution_count": null,
      "outputs": []
    },
    {
      "cell_type": "markdown",
      "source": [
        "Now let's look at the 'title' column, whose texts are in uppercase. This isn't very nice, so we can use a few methods to modify the case pattern:\n"
      ],
      "metadata": {
        "id": "eJrshnnNugkd"
      }
    },
    {
      "cell_type": "code",
      "source": [
        "df['title'].str.lower()\n"
      ],
      "metadata": {
        "id": "hGO3T28dvczx"
      },
      "execution_count": null,
      "outputs": []
    },
    {
      "cell_type": "code",
      "source": [
        "df['title'].str.title()\n"
      ],
      "metadata": {
        "id": "VuYIXcBDvk3k"
      },
      "execution_count": null,
      "outputs": []
    },
    {
      "cell_type": "markdown",
      "source": [
        "The latter is more suitable, let's save it:\n"
      ],
      "metadata": {
        "id": "024r4E1Yvys8"
      }
    },
    {
      "cell_type": "code",
      "source": [
        "df['title'] = df['title'].str.title()\n"
      ],
      "metadata": {
        "id": "wa2sYRk9v4se"
      },
      "execution_count": null,
      "outputs": []
    },
    {
      "cell_type": "markdown",
      "source": [
        "Now let's say we want to split our author column into two columns author_first_name and author_last_name. We can do that with the split method:\n"
      ],
      "metadata": {
        "id": "so2eds1qwwbN"
      }
    },
    {
      "cell_type": "code",
      "source": [
        "df['author'].str.split(' ')\n"
      ],
      "metadata": {
        "id": "aE5zTzTMxZtP"
      },
      "execution_count": null,
      "outputs": []
    },
    {
      "cell_type": "markdown",
      "source": [
        "We can convert it to two columns like so:\n"
      ],
      "metadata": {
        "id": "W7f7T8E0xiaD"
      }
    },
    {
      "cell_type": "code",
      "source": [
        "df['author'].str.split(' ', expand=True)\n",
        "\n"
      ],
      "metadata": {
        "id": "Cj8f1jKvxi9v"
      },
      "execution_count": null,
      "outputs": []
    },
    {
      "cell_type": "code",
      "source": [
        "df.head()\n"
      ],
      "metadata": {
        "id": "N_pPyy3Zyg52"
      },
      "execution_count": null,
      "outputs": []
    },
    {
      "cell_type": "markdown",
      "source": [
        "### **MAP**"
      ],
      "metadata": {
        "id": "KjV-ADif6zGA"
      }
    },
    {
      "cell_type": "markdown",
      "source": [
        "Let's say we want to transform the data in our 'rank.numberInt' column so that the 'rankink' is given by letters, not numbers.\n",
        "\n",
        "We know there is a 'No Rank' value in that column, so our conversion dictionary might look like this:"
      ],
      "metadata": {
        "id": "cZkIDZWf7Vse"
      }
    },
    {
      "cell_type": "code",
      "source": [
        "int_a_letter = {\n",
        "    '1': 'a',\n",
        "    '2': 'b',\n",
        "    '3': 'c',\n",
        "    '4': 'd',\n",
        "    '5': 'e',\n",
        "    '6': 'f',\n",
        "    '7': 'g',\n",
        "    '8': 'h',\n",
        "    '9': 'i',\n",
        "    '10': 'j',\n",
        "    '11': 'k',\n",
        "    '12': 'l',\n",
        "    '13': 'm',\n",
        "    '14': 'n',\n",
        "    '15': 'or',\n",
        "    '16': 'p',\n",
        "    'NoRank': 'z'\n",
        "}\n"
      ],
      "metadata": {
        "id": "EDnT3a4y7ict"
      },
      "execution_count": null,
      "outputs": []
    },
    {
      "cell_type": "markdown",
      "source": [
        "We apply it using map:\n"
      ],
      "metadata": {
        "id": "jXLjugEw7nBM"
      }
    },
    {
      "cell_type": "code",
      "source": [
        "df['rank.numberInt'].map(int_a_letter).head(20)"
      ],
      "metadata": {
        "id": "dmyxR9GC74Ys"
      },
      "execution_count": null,
      "outputs": []
    },
    {
      "cell_type": "markdown",
      "source": [
        "We can also use a function for map. For example this function that performs a correspondence between the price of a book and its string representation:\n"
      ],
      "metadata": {
        "id": "EHfmpySJ78dx"
      }
    },
    {
      "cell_type": "code",
      "source": [
        "def double_to_money(value):\n",
        "    \n",
        "    return f'${value} USD'"
      ],
      "metadata": {
        "id": "5h9OEYTT799f"
      },
      "execution_count": null,
      "outputs": []
    },
    {
      "cell_type": "code",
      "source": [
        "df['price.numberDouble'].map(double_to_money)\n"
      ],
      "metadata": {
        "id": "AB5AmjGa8J_i"
      },
      "execution_count": null,
      "outputs": []
    },
    {
      "cell_type": "markdown",
      "source": [
        "### **APPLY**"
      ],
      "metadata": {
        "id": "KjG92bqT8Pci"
      }
    },
    {
      "cell_type": "markdown",
      "source": [
        "Another way to create correspondences is by applying a function to our DataFrame or Series using apply.\n",
        "\n",
        "For a Series we can use apply to apply a function \"element by element\".\n",
        "\n",
        "In DataFrames we can use this same method to apply functions by rows or by columns."
      ],
      "metadata": {
        "id": "5MejSwq28R3g"
      }
    },
    {
      "cell_type": "code",
      "source": [
        "import numpy as np"
      ],
      "metadata": {
        "id": "FGhXp4Pk8fdN"
      },
      "execution_count": null,
      "outputs": []
    },
    {
      "cell_type": "markdown",
      "source": [
        "We can apply functions to our Series with the apply method:\n"
      ],
      "metadata": {
        "id": "uIeh3FNt8mUK"
      }
    },
    {
      "cell_type": "code",
      "source": [
        "def years_since_bestseller(value):\n",
        "    \n",
        "    as_datetime = pd.to_datetime(value, unit='ms')\n",
        "    today = pd.to_datetime('today')\n",
        "    difference_in_days = (today - as_datetime).days\n",
        "    in_years = difference_in_days / 365\n",
        "    \n",
        "    return in_years\n"
      ],
      "metadata": {
        "id": "AjKB4jIk8m7k"
      },
      "execution_count": null,
      "outputs": []
    },
    {
      "cell_type": "code",
      "source": [
        "df['published_date.numberLong'].apply(years_since_bestseller)\n"
      ],
      "metadata": {
        "id": "j9iHi1oU8qGZ"
      },
      "execution_count": null,
      "outputs": []
    },
    {
      "cell_type": "markdown",
      "source": [
        "Or this other one:\n"
      ],
      "metadata": {
        "id": "K9iHfzJ_8yaG"
      }
    },
    {
      "cell_type": "code",
      "source": [
        "def weeks_on_list_percentage_of_maximum(value, max_weeks_on_list):\n",
        "    \n",
        "    percentage = value * 100 / max_weeks_on_list\n",
        "    as_string = f'{percentage:.2f}%'\n",
        "    \n",
        "    return as_string"
      ],
      "metadata": {
        "id": "2EnNuFMT8y9b"
      },
      "execution_count": null,
      "outputs": []
    },
    {
      "cell_type": "code",
      "source": [
        "df['weeks_on_list.numberInt'].apply(weeks_on_list_percentage_of_maximum, args=(df['weeks_on_list.numberInt'].max(),))\n"
      ],
      "metadata": {
        "id": "PNMV4XX99iAw"
      },
      "execution_count": null,
      "outputs": []
    },
    {
      "cell_type": "markdown",
      "source": [
        "### **Filters**"
      ],
      "metadata": {
        "id": "wl19-6V299Dp"
      }
    },
    {
      "cell_type": "markdown",
      "source": [
        "Filters serve us to obtain subsets of data that have a certain characteristic that we need. We can \"filter\" only the data we want and leave out undesirable data.\n",
        "\n",
        "Creating subsets from our dataset is very useful to better understand the makeup of our dataset and to perform sample analyzes of our total data.\n"
      ],
      "metadata": {
        "id": "vi9akgZy9-47"
      }
    },
    {
      "cell_type": "markdown",
      "source": [
        "Let's say we want all records where the author's name starts with 'R'. First, we use comparison operators (or in this case, the str.startswith method) to get our filter:\n"
      ],
      "metadata": {
        "id": "j3yH8zZg-cA2"
      }
    },
    {
      "cell_type": "code",
      "source": [
        "df['author'].str.startswith('R')\n"
      ],
      "metadata": {
        "id": "d_G6FlPm-csT"
      },
      "execution_count": null,
      "outputs": []
    },
    {
      "cell_type": "markdown",
      "source": [
        "What we get back is a String with the same length as the original String. The method or comparison was applied to each element of the original Series. These methods or comparisons return True or False depending on each value. The resulting Series accumulates the Trues and Falses that we obtain from the comparison or from the application of the method.\n"
      ],
      "metadata": {
        "id": "I67vpcQB_RQC"
      }
    },
    {
      "cell_type": "code",
      "source": [
        "df[df['author'].str.startswith('R')].head()\n"
      ],
      "metadata": {
        "id": "ss9GMszJ-fDQ"
      },
      "execution_count": null,
      "outputs": []
    },
    {
      "cell_type": "markdown",
      "source": [
        "We can also store our filters in variables and then use them:\n"
      ],
      "metadata": {
        "id": "1MfTPyX7_eI-"
      }
    },
    {
      "cell_type": "code",
      "source": [
        "filter_price_greater_than_20 = df['price.numberDouble'] > 20\n"
      ],
      "metadata": {
        "id": "EFEflG9X_bo1"
      },
      "execution_count": null,
      "outputs": []
    },
    {
      "cell_type": "code",
      "source": [
        "df[filtro_precio_mayor_a_20].head()\n"
      ],
      "metadata": {
        "id": "vF3zPj2b_gYx"
      },
      "execution_count": null,
      "outputs": []
    },
    {
      "cell_type": "markdown",
      "source": [
        "We can even apply two or more filters using logical operators. In this case, our and operator is represented by an & and the or operator is represented by |:\n"
      ],
      "metadata": {
        "id": "2Zk0OYwG_mr-"
      }
    },
    {
      "cell_type": "code",
      "source": [
        "filter_rank_number_one = df['rank.numberInt'] == '1'\n"
      ],
      "metadata": {
        "id": "QdvdrRw8_nTv"
      },
      "execution_count": null,
      "outputs": []
    },
    {
      "cell_type": "code",
      "source": [
        "df[filter_price_greater_than_20 & filter_rank_number_one].head()\n"
      ],
      "metadata": {
        "id": "jtHRBY9c_saY"
      },
      "execution_count": null,
      "outputs": []
    },
    {
      "cell_type": "markdown",
      "source": [
        "### **SORT**"
      ],
      "metadata": {
        "id": "kv1cpUULD3ui"
      }
    },
    {
      "cell_type": "markdown",
      "source": [
        "We can also reorder our data using the sort_values ​​method. We reorder our data set taking into account the value that each row has in a given column. We can order them ascending or descendingly.\n",
        "\n",
        "Reordering our data can help us better understand the distribution of our data, as well as prepare our set or subsets for display."
      ],
      "metadata": {
        "id": "HMYAUdIYEBCd"
      }
    },
    {
      "cell_type": "code",
      "source": [
        "df.sort_values('price.numberDouble', ascending=False)\n"
      ],
      "metadata": {
        "id": "hWTBO-i_EAi9"
      },
      "execution_count": null,
      "outputs": []
    },
    {
      "cell_type": "markdown",
      "source": [
        "If we convert 'published_date.numberLong' to a datetime, we can also order from the oldest publication to the most recent publication:\n"
      ],
      "metadata": {
        "id": "4wwZPKZxEQNf"
      }
    },
    {
      "cell_type": "code",
      "source": [
        "df['published_date.numberLong'] = pd.to_datetime(df['published_date.numberLong'], unit='ms')\n"
      ],
      "metadata": {
        "id": "0A33Ho0lEQy_"
      },
      "execution_count": null,
      "outputs": []
    },
    {
      "cell_type": "code",
      "source": [
        "df.sort_values('published_date.numberLong', ascending=True)\n"
      ],
      "metadata": {
        "id": "MuH_e2z5EScj"
      },
      "execution_count": null,
      "outputs": []
    },
    {
      "cell_type": "markdown",
      "source": [
        "For example, we could first filter to only have the books from the publisher that has the most books as 'best sellers', and then sort them from the one that spent the most days on the 'best seller' list to the one that spent the fewest days on the list:\n"
      ],
      "metadata": {
        "id": "oMYkB2gpEY5S"
      }
    },
    {
      "cell_type": "code",
      "source": [
        "df['publisher'].value_counts()\n"
      ],
      "metadata": {
        "id": "44FLirlHEZdK"
      },
      "execution_count": null,
      "outputs": []
    },
    {
      "cell_type": "code",
      "source": [
        "df_putnam = df[df['publisher'] == 'Putnam']\n"
      ],
      "metadata": {
        "id": "I5-MvnBcEiM4"
      },
      "execution_count": null,
      "outputs": []
    },
    {
      "cell_type": "code",
      "source": [
        "df_putnam.sort_values('weeks_on_list.numberInt', ascending=False)\n"
      ],
      "metadata": {
        "id": "jyeOKpumEkSI"
      },
      "execution_count": null,
      "outputs": []
    },
    {
      "cell_type": "markdown",
      "source": [
        "### **PRACTICE**"
      ],
      "metadata": {
        "id": "EPbUiuWUFd35"
      }
    },
    {
      "cell_type": "code",
      "source": [
        "import numpy as np\n",
        "import pandas as pd\n",
        "data = {\n",
        "    'animal':\n",
        "    ['cat', 'cat', 'snake', 'dog', 'dog', 'cat', 'snake', 'cat', 'dog', 'dog'],\n",
        "    'age': [2.5, 3, 0.5, np.nan, 5, 2, 4.5, np.nan, 7, 3],\n",
        "    'visits': [1, 3, 2, 3, 2, 3, 1, 1, 2, 1],\n",
        "    'priority':\n",
        "    ['yes', 'yes', 'no', 'yes', 'no', 'no', 'no', 'yes', 'no', 'no']\n",
        "}\n",
        " \n",
        "labels = ['a', 'b', 'c', 'd', 'e', 'f', 'g', 'h', 'i', 'j']\n",
        "df = pd.DataFrame(data, index=labels)\n"
      ],
      "metadata": {
        "id": "nAa56g6qFknJ"
      },
      "execution_count": 4,
      "outputs": []
    },
    {
      "cell_type": "code",
      "source": [
        "df[(df['age']>2) & (df['age']>4)]\n",
        "# Method 2\n",
        "df[df['age'].between(2, 4)]"
      ],
      "metadata": {
        "id": "mBgn55PlF699"
      },
      "execution_count": null,
      "outputs": []
    },
    {
      "cell_type": "code",
      "source": [
        "df.groupby('animal')['age'].mean()\n"
      ],
      "metadata": {
        "id": "G2HqF6dGGKZZ"
      },
      "execution_count": null,
      "outputs": []
    },
    {
      "cell_type": "code",
      "source": [
        "df['animal'].value_counts()\n"
      ],
      "metadata": {
        "id": "xW2CPkkjGN5K"
      },
      "execution_count": null,
      "outputs": []
    },
    {
      "cell_type": "code",
      "source": [
        "df.sort_values(by=['age', 'visits'], ascending=[False, True])\n"
      ],
      "metadata": {
        "id": "Fbr9_dMMGQRj"
      },
      "execution_count": null,
      "outputs": []
    },
    {
      "cell_type": "code",
      "source": [
        "df['priority'] = df['priority'].map({'yes': True, 'no': False})\n",
        "df"
      ],
      "metadata": {
        "id": "hG4rl7TRGXbk"
      },
      "execution_count": null,
      "outputs": []
    },
    {
      "cell_type": "code",
      "source": [
        "df['animal'] = df['animal'].replace('snake', 'python')\n",
        "df"
      ],
      "metadata": {
        "id": "wHKydMmIGZZ6"
      },
      "execution_count": null,
      "outputs": []
    },
    {
      "cell_type": "code",
      "source": [
        "df.pivot_table(index='animal', columns='visits', values='age', aggfunc='mean')\n"
      ],
      "metadata": {
        "id": "EaFoCZQAGi4A"
      },
      "execution_count": null,
      "outputs": []
    },
    {
      "cell_type": "markdown",
      "source": [
        "EXAMPLE #2"
      ],
      "metadata": {
        "id": "C6I4JpGEHGEh"
      }
    },
    {
      "cell_type": "code",
      "source": [
        "df = pd.DataFrame(np.random.random(size=(5, 5)), columns=list('abcde'))\n",
        "print(df)\n"
      ],
      "metadata": {
        "id": "qZInlStZG7hj"
      },
      "execution_count": 5,
      "outputs": []
    },
    {
      "cell_type": "code",
      "source": [
        "df.sum().idxmin()"
      ],
      "metadata": {
        "id": "3vpfwbk9G_7F"
      },
      "execution_count": null,
      "outputs": []
    },
    {
      "cell_type": "markdown",
      "source": [
        "EXAMPLE # 3"
      ],
      "metadata": {
        "id": "CvnSPTlPHmIB"
      }
    },
    {
      "cell_type": "code",
      "source": [
        "dti = pd.date_range(start='2015-01-01', end='2015-12-31', freq='B')\n",
        "s = pd.Series(np.random.rand(len(dti)), index=dti)\n",
        " \n",
        "s.head(10)\n"
      ],
      "metadata": {
        "id": "FioqPQ0KHrzP"
      },
      "execution_count": null,
      "outputs": []
    },
    {
      "cell_type": "code",
      "source": [
        "s[s.index.weekday == 2].sum()"
      ],
      "metadata": {
        "id": "YxxwkMGeH7sK"
      },
      "execution_count": null,
      "outputs": []
    }
  ]
}