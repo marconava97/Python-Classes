{
  "nbformat": 4,
  "nbformat_minor": 0,
  "metadata": {
    "colab": {
      "name": "Untitled29.ipynb",
      "provenance": []
    },
    "kernelspec": {
      "name": "python3",
      "display_name": "Python 3"
    },
    "language_info": {
      "name": "python"
    }
  },
  "cells": [
    {
      "cell_type": "markdown",
      "source": [
        "Session 02: Data structures and functions"
      ],
      "metadata": {
        "id": "4Og0_hgEnYGj"
      }
    },
    {
      "cell_type": "markdown",
      "source": [
        "Objectives\n",
        "- Understand the usefulness of data structures to organize information within our programs.\n",
        "- Use lists and dictionaries and understand the main differences between them.\n",
        "- Declare functions and use them successfully."
      ],
      "metadata": {
        "id": "A_XIITCMnZgZ"
      }
    },
    {
      "cell_type": "markdown",
      "source": [
        "*LISTS*"
      ],
      "metadata": {
        "id": "P9Bkm21GnlA2"
      }
    },
    {
      "cell_type": "markdown",
      "source": [
        "Lists are one of the types of data structures that we can use in Python. A data structure helps us to organize data and to optimize the access, processing and use of data.\n",
        "\n",
        "Lists are ordered sequences of data and look like this:"
      ],
      "metadata": {
        "id": "s5Qnu_nxn0im"
      }
    },
    {
      "cell_type": "markdown",
      "source": [
        "list_of_numbers = [1, 4, 7, 5, 3, 4, 6]*texto en cursiva*"
      ],
      "metadata": {
        "id": "unR6QC3Bn9DD"
      }
    },
    {
      "cell_type": "markdown",
      "source": [
        "Each item in the list has an index, which is used to access that item. Since lists are ordered, the indices are assigned sequentially from the first element to the last. The first index is always 0, and therefore the last index is always n - 1, where n is the total number of elements in the list."
      ],
      "metadata": {
        "id": "tI0YDfQWoT1K"
      }
    },
    {
      "cell_type": "code",
      "source": [
        "list_1 = [1, 4, 7, 5, 3, 4, 6]"
      ],
      "metadata": {
        "id": "ttTAlEcNRufR"
      },
      "execution_count": null,
      "outputs": []
    },
    {
      "cell_type": "markdown",
      "source": [
        "So, to access the first and last elements of the list above, we do the following:"
      ],
      "metadata": {
        "id": "Uvd9iG9nO6Mt"
      }
    },
    {
      "cell_type": "code",
      "source": [
        "print(f'First element of the list: {list_1[0]}')\n",
        "print(f'Last element of list: {list_1[4]}')"
      ],
      "metadata": {
        "id": "ON6kobL9nYzA"
      },
      "execution_count": null,
      "outputs": []
    },
    {
      "cell_type": "markdown",
      "source": [
        "If we try to access an index that doesn't exist, because there aren't enough elements in the list, Python gives us an error:"
      ],
      "metadata": {
        "id": "m9zIs0hYPr3W"
      }
    },
    {
      "cell_type": "code",
      "source": [
        "list_1[10]"
      ],
      "metadata": {
        "id": "qcKShaJoP0gs"
      },
      "execution_count": null,
      "outputs": []
    },
    {
      "cell_type": "markdown",
      "source": [
        "Python allows us to access elements starting from the last element to the first (the other way around, then). This is done using negative numbers. So to access the last number I can use a -1, to access the penultimate number I can use -2 and so on:\n"
      ],
      "metadata": {
        "id": "nZT3iN-3Sw61"
      }
    },
    {
      "cell_type": "code",
      "source": [
        "print(list_1[-1])\n",
        "print(list_1[-2])"
      ],
      "metadata": {
        "id": "g-4Gd0LRSwDT"
      },
      "execution_count": null,
      "outputs": []
    },
    {
      "cell_type": "markdown",
      "source": [
        "As you can imagine, we can't just store raw data in a list (1, 2, 3, 4, etc). We can store data in variables and then store those variables in the list. The following two lists are equivalent:\n"
      ],
      "metadata": {
        "id": "voI6wAzuT-DL"
      }
    },
    {
      "cell_type": "code",
      "source": [
        "list_with_raw_values ​​= [1, 2, 3, 4, 5]\n",
        "\n",
        "one = 1\n",
        "two = 2\n",
        "three = 3\n",
        "four = 4\n",
        "five = 5\n",
        "\n",
        "list_with_variables = [one, two, three, four, five]\n",
        "\n",
        "print(list_with_raw_values)\n",
        "print(list_with_variables)\n"
      ],
      "metadata": {
        "id": "FRBz2bk4T-vy"
      },
      "execution_count": null,
      "outputs": []
    },
    {
      "cell_type": "markdown",
      "source": [
        "A list can contain any data type that we already know about (even other lists)."
      ],
      "metadata": {
        "id": "7XZ2O_SuUoQS"
      }
    },
    {
      "cell_type": "code",
      "source": [
        "list_of_floats = [2.4, 5.67, 8.7, 9.34]\n",
        "list_of_strings = [\"John\", \"Pepe\", \"Pedro\", \"Jose\"]\n",
        "list_of_booleans = [True, False, False, True, False]\n",
        "list_of_lists_of_ints = [[3, 4, 6], [7, 8, 9], [4, 6, 2]]"
      ],
      "metadata": {
        "id": "DgUsBaEmUv0K"
      },
      "execution_count": null,
      "outputs": []
    },
    {
      "cell_type": "markdown",
      "source": [
        "*Modifying lists*\n"
      ],
      "metadata": {
        "id": "L0YiQA8oXGii"
      }
    },
    {
      "cell_type": "markdown",
      "source": [
        "**append** adds an element to the end of the list:"
      ],
      "metadata": {
        "id": "Bxb7V6HAXJSI"
      }
    },
    {
      "cell_type": "code",
      "source": [
        "lista_1 = [1, 2, 3, 4, 5, 6]\n",
        "\n",
        "lista_1.append(7)\n",
        "\n",
        "lista_1"
      ],
      "metadata": {
        "id": "l6JaEJomXXDW"
      },
      "execution_count": null,
      "outputs": []
    },
    {
      "cell_type": "markdown",
      "source": [
        "\n",
        "**pop** removes the last element of the list if called with no arguments. If we pass it an index, it removes whatever element is stored at that index:"
      ],
      "metadata": {
        "id": "J0naFOh7Xc-P"
      }
    },
    {
      "cell_type": "code",
      "source": [
        "lista_2 = [1, 2, 3, 4, 5, 6]\n",
        "\n",
        "lista_2.pop()\n",
        "\n",
        "lista_2"
      ],
      "metadata": {
        "id": "jrYsqY-1XcSx"
      },
      "execution_count": null,
      "outputs": []
    },
    {
      "cell_type": "code",
      "source": [
        "lista_2.pop(1)\n",
        "\n",
        "lista_2"
      ],
      "metadata": {
        "id": "lwzYJqDaX01l"
      },
      "execution_count": null,
      "outputs": []
    },
    {
      "cell_type": "markdown",
      "source": [
        "**Dictionaries**"
      ],
      "metadata": {
        "id": "oAFk8_GaX96H"
      }
    },
    {
      "cell_type": "markdown",
      "source": [
        "Dictionaries are our second basic data structure in Python. Unlike lists, dictionaries do not have a defined order. This doesn't matter too much because dictionaries contain key-value pairs instead of elements (as in lists). To access the values, simply pass the key we are looking for to the dictionary. Think of it like passing a url to your browser to get a web page. Somewhere there is a structure similar to a dictionary that relates each url with the ip where the page we want to access is stored.\n"
      ],
      "metadata": {
        "id": "RuEEqvLmYCNj"
      }
    },
    {
      "cell_type": "markdown",
      "source": [
        "I find dictionaries especially valuable because of their similarity to JSON format and because they are ideal for representing rows (samples) in a table (the column name as the key and the cell value as the value of the key). It's also a good idea to talk about the idea of ​​mapping, how we can create pairs of information that represent \"the same thing\" but seen from different perspectives or at different levels of depth.\n"
      ],
      "metadata": {
        "id": "Ap4nj2KBYKLC"
      }
    },
    {
      "cell_type": "code",
      "source": [
        "dictionary_1 = {\n",
        "    \"key_1\": \"value_1\",\n",
        "    \"key_2\": \"value_2\",\n",
        "    \"key_3\": \"value_3\",\n",
        "    \"key_4\": \"value_4\"\n",
        "}"
      ],
      "metadata": {
        "id": "dbH0MeRrYDmS"
      },
      "execution_count": 1,
      "outputs": []
    },
    {
      "cell_type": "code",
      "source": [
        "dictionary_1[\"key_1\"]"
      ],
      "metadata": {
        "colab": {
          "base_uri": "https://localhost:8080/",
          "height": 35
        },
        "id": "Kte7UpHaYjfz",
        "outputId": "4d6c658c-e8cd-4f33-e001-1b1ffd1babbe"
      },
      "execution_count": 2,
      "outputs": [
        {
          "output_type": "execute_result",
          "data": {
            "text/plain": [
              "'value_1'"
            ],
            "application/vnd.google.colaboratory.intrinsic+json": {
              "type": "string"
            }
          },
          "metadata": {},
          "execution_count": 2
        }
      ]
    },
    {
      "cell_type": "code",
      "source": [
        "dictionary_4 = {\n",
        "    \"int\": 123,\n",
        "    \"float\": 23.56,\n",
        "    \"string\": \"Hello\",\n",
        "    \"boolean\": True,\n",
        "    \"list\": [1, 2, 3, 4],\n",
        "    \"dictionary\": {\n",
        "        1 one\",\n",
        "        2 two\"\n",
        "    }\n",
        "}"
      ],
      "metadata": {
        "id": "kzgkJMk6h8qY"
      },
      "execution_count": null,
      "outputs": []
    },
    {
      "cell_type": "code",
      "source": [
        "print(dictionary_4[\"float\"])\n",
        "print(dictionary_4[\"boolean\"])\n",
        "print(dictionary_4[\"list\"][3])\n",
        "print(dictionary_4[\"dictionary\"][1])"
      ],
      "metadata": {
        "id": "5TxunRiMYsxD"
      },
      "execution_count": null,
      "outputs": []
    },
    {
      "cell_type": "code",
      "source": [
        "from pprint import pprint\n"
      ],
      "metadata": {
        "id": "3dqTZE8dkFyt"
      },
      "execution_count": null,
      "outputs": []
    },
    {
      "cell_type": "code",
      "source": [
        "contact_info = {\n",
        "    \"name\": \"Elizabeth\",\n",
        "    \"tel\": 5546352431,\n",
        "    \"dir\": {\n",
        "        \"colony\": \"Del Valle Centro\",\n",
        "        \"street\": \"Pillars\",\n",
        "        \"num\": 69,\n",
        "        \"zip\": \"03100\"\n",
        "    }\n",
        "}\n",
        "\n",
        "pprint(contact_info)"
      ],
      "metadata": {
        "id": "5EmAa2-2mPFE"
      },
      "execution_count": null,
      "outputs": []
    },
    {
      "cell_type": "code",
      "source": [
        "contact_info[\"email\"] = \"isabel.arriaga@gmail.com\"\n",
        "\n",
        "pprint(contact_info)"
      ],
      "metadata": {
        "id": "ufqRLprEnazA"
      },
      "execution_count": null,
      "outputs": []
    },
    {
      "cell_type": "code",
      "source": [
        "contact_info.pop(\"tel\")\n",
        "\n",
        "pprint(contact_info)"
      ],
      "metadata": {
        "id": "w971Lns6n1-4"
      },
      "execution_count": null,
      "outputs": []
    },
    {
      "cell_type": "markdown",
      "source": [
        "**FUNCTIONS**"
      ],
      "metadata": {
        "id": "N46R5s1-iqVJ"
      }
    },
    {
      "cell_type": "markdown",
      "source": [
        "Repeating code is one of the worst practices that we can have as programmers and analysts: it makes our code confusing and difficult to modify. For that there are functions, which allow us to \"encapsulate\" processes so that they can be repeated throughout our program.\n",
        "\n",
        "Functions can help us take the complexity out of our program and make it easier to understand.\n",
        "\n",
        "This is what a function looks like:"
      ],
      "metadata": {
        "id": "Xbk1zZMXjOfR"
      }
    },
    {
      "cell_type": "markdown",
      "source": [
        "\n",
        "def am_a_function(am_a_parameter):\n",
        "    \n",
        "    new_variable = I_am_a_process\n",
        "    \n",
        "    return new_variable"
      ],
      "metadata": {
        "id": "6-UrsUoOoQH7"
      }
    },
    {
      "cell_type": "code",
      "source": [
        "\n",
        "def multiply_number_by_pi(number):\n",
        "    result = number * 3.14\n",
        "    \n",
        "    return result"
      ],
      "metadata": {
        "id": "eQ5LcKVDogND"
      },
      "execution_count": null,
      "outputs": []
    },
    {
      "cell_type": "code",
      "source": [
        "def this_function_does_always_the_same():\n",
        "    \n",
        "    result = 2 * 10\n",
        "    \n",
        "    return result\n",
        "\n",
        "print(this_function_does_always_the_same())\n",
        "print(this_function_does_always_the_same())\n",
        "print(this_function_does_always_the_same())"
      ],
      "metadata": {
        "id": "RPbaUQB5owgu"
      },
      "execution_count": null,
      "outputs": []
    },
    {
      "cell_type": "code",
      "source": [
        "def add_number_to_list_if_number_is_even(list, number):\n",
        "    \n",
        "    if number % 2 == 0:\n",
        "        list.append(number)\n",
        "        \n",
        "    return list\n",
        "\n",
        "list_of_ints = [2, 34, 26, 88, 4]\n",
        "\n",
        "list_of_ints = add_number_to_list_if_number_is_even(list_of_ints, 5)\n",
        "list_of_ints = add_number_to_list_if_number_is_even(list_of_ints, 66)\n",
        "\n",
        "list_of_ints"
      ],
      "metadata": {
        "id": "jqE2G-gUpMHI"
      },
      "execution_count": null,
      "outputs": []
    },
    {
      "cell_type": "code",
      "source": [
        "def returns_true_if_the_value_is_between_50_and_60(value):\n",
        "    \n",
        "    if value > 50:\n",
        "        if value < 60:\n",
        "            return True\n",
        "    \n",
        "    return False\n",
        "\n",
        "result_1 = returns_true_if_the_value_is_between_50_and_60(58)\n",
        "result_2 = returns_true_if_the_value_is_between_50_and_60(89)\n",
        "\n",
        "if result_1 == True:\n",
        "    print(\"The first value is greater than 50 and less than 60\")\n",
        "\n",
        "if result_2 == True:\n",
        "    print(\"The second value is greater than 50 and less than 60\")"
      ],
      "metadata": {
        "id": "ZZA-58VzpZLp"
      },
      "execution_count": null,
      "outputs": []
    }
  ]
}