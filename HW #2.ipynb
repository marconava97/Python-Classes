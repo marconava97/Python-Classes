{
  "nbformat": 4,
  "nbformat_minor": 0,
  "metadata": {
    "colab": {
      "name": "Untitled12.ipynb",
      "provenance": []
    },
    "kernelspec": {
      "name": "python3",
      "display_name": "Python 3"
    },
    "language_info": {
      "name": "python"
    }
  },
  "cells": [
    {
      "cell_type": "markdown",
      "source": [
        "**ACTIVITY 1**"
      ],
      "metadata": {
        "id": "QxAI4YSp_h5c"
      }
    },
    {
      "cell_type": "markdown",
      "source": [
        "a) Defining a list\n"
      ],
      "metadata": {
        "id": "LkeP7BFiAFLk"
      }
    },
    {
      "cell_type": "markdown",
      "source": [
        "Below this cell is a name of a variable that has not yet been assigned:"
      ],
      "metadata": {
        "id": "SRvM_WtFAK-x"
      }
    },
    {
      "cell_type": "code",
      "source": [
        "my_information =\n"
      ],
      "metadata": {
        "id": "fNaIbYjhAPLa"
      },
      "execution_count": null,
      "outputs": []
    },
    {
      "cell_type": "markdown",
      "source": [
        "Now, we have a \"print\" that prints a string formatted to display some information about you (The triple quotes ''' are useful for generating multi-line strings):"
      ],
      "metadata": {
        "id": "RjuguoJ-AXox"
      }
    },
    {
      "cell_type": "code",
      "source": [
        "\n",
        "print(f'''\n",
        "Hello! My name is {my_information[0]}. Everyone tells me {my_information[1]}.\n",
        "My favorite food is {my_information[2]}. And the food I hate the most is {my_information[3]}.\n",
        "My ideal job would be {my_information[4]}.\n",
        "Thanks Ciao!\n",
        "''')"
      ],
      "metadata": {
        "id": "8lHoaDd_Ab-z"
      },
      "execution_count": null,
      "outputs": []
    },
    {
      "cell_type": "markdown",
      "source": [
        "For this string to work, assign a list to the my_information variable with all the information needed to print your microbe below the cell."
      ],
      "metadata": {
        "id": "_K3dqP-UAhh4"
      }
    },
    {
      "cell_type": "markdown",
      "source": [
        "b) A list built with variables\n"
      ],
      "metadata": {
        "id": "KFDW_BVPAoSh"
      }
    },
    {
      "cell_type": "markdown",
      "source": [
        "Below this cell we see the names of several variables and a list that contains them."
      ],
      "metadata": {
        "id": "hMhBV_FmArd2"
      }
    },
    {
      "cell_type": "code",
      "source": [
        "info_0 =\n",
        "info_1 =\n",
        "info_2 =\n",
        "info_3 =\n",
        "info_4 =\n",
        "\n",
        "missing_info[info_0, info_1, info_2, info_3, info_4]"
      ],
      "metadata": {
        "id": "lKIJuo60A4wK"
      },
      "execution_count": null,
      "outputs": []
    },
    {
      "cell_type": "markdown",
      "source": [
        "\n",
        "Now, we have a print that prints a little history using the missing_info list that contains the other variables:"
      ],
      "metadata": {
        "id": "c7F9reJ0A-hZ"
      }
    },
    {
      "cell_type": "code",
      "source": [
        "print(f'''\n",
        "Someday the {missing_info[0]} will achieve their goal. Their goal of {missing_info[1]}.\n",
        "On that day, humans {missing_info[2]} and will have {missing_info[3]}.\n",
        "For that reason I every day {info_faltante[4]}.\n",
        "''')"
      ],
      "metadata": {
        "id": "8VM2HkkqBEEL"
      },
      "execution_count": null,
      "outputs": []
    },
    {
      "cell_type": "markdown",
      "source": [
        "Your challenge will be to assign the info_x variables with the information you want to create a story to your liking. Each variable can contain a string that has several words (phrases, then). If you feel like it, share the story with your classmates!\n"
      ],
      "metadata": {
        "id": "ulEzRWQaBRuL"
      }
    },
    {
      "cell_type": "markdown",
      "source": [
        "**ACTIVITY 2**"
      ],
      "metadata": {
        "id": "ah5E_O-iBbpB"
      }
    },
    {
      "cell_type": "markdown",
      "source": [
        "a) Modify to remove differences\n"
      ],
      "metadata": {
        "id": "FOGCxhTYBmP7"
      }
    },
    {
      "cell_type": "markdown",
      "source": [
        "Below you have two defined lists:\n"
      ],
      "metadata": {
        "id": "K4tsgJ49Bpr8"
      }
    },
    {
      "cell_type": "code",
      "source": [
        "\n",
        "list_1 = [3.4, 0.7, 99.9, 5.41, 6.23, 7.9]\n",
        "\n",
        "list_2 = [3.4, 63.4, 0.7, 6.46, 99.9, 2.2, 5.41]\n",
        "\n",
        "# Your code goes here\n",
        "# ...\n",
        "# ..."
      ],
      "metadata": {
        "id": "tLZhaquLBqRp"
      },
      "execution_count": null,
      "outputs": []
    },
    {
      "cell_type": "code",
      "source": [
        "if lista_1 == lista_2:\n",
        "    print(\"It´s the same\")\n",
        "\n",
        "#You don´t have to anything here, only run the cell, and if you do correct the previous exercise, it will be printed \"It´s the same\", In other case you have to improve your code"
      ],
      "metadata": {
        "id": "ZtLdoSMcCCWH"
      },
      "execution_count": null,
      "outputs": []
    },
    {
      "cell_type": "markdown",
      "source": [
        "Where it says \"your code goes here\" add modifications to list_2 to make both lists identical and the beautiful message \"You and I are one\" is printed. You can use both pop and append, but you can only modify list_2.\n"
      ],
      "metadata": {
        "id": "1_qLI_m_CCjp"
      }
    },
    {
      "cell_type": "markdown",
      "source": [
        "**ACTIVITY 3**"
      ],
      "metadata": {
        "id": "3VFE0ZieCiI6"
      }
    },
    {
      "cell_type": "markdown",
      "source": [
        "Below we have defined a dictionary. This dictionary is incomplete, although it may not seem so:\n"
      ],
      "metadata": {
        "id": "dTYG_kdkCqat"
      }
    },
    {
      "cell_type": "code",
      "source": [
        "monthly_sales = {\n",
        "    \"cutoff_date\": \"05/01/2020\",\n",
        "    \"unit\": \"Aragon\",\n",
        "    # Your code goes here\n",
        "    #...\n",
        "}"
      ],
      "metadata": {
        "id": "irt26dhvCzeF"
      },
      "execution_count": null,
      "outputs": []
    },
    {
      "cell_type": "markdown",
      "source": [
        "Below we have some procedures that have been performed using this dictionary. As you can see, some of the accesses that are being made will fail because the monthly_sales dictionary is not complete:"
      ],
      "metadata": {
        "id": "7Vv0kDVtC3o5"
      }
    },
    {
      "cell_type": "code",
      "source": [
        "total_sales_of_inputs = monthly_sales[\"bakery_sales\"] + monthly_sales[\"bakery_sales\"]\n",
        "total_earnings = monthly_sales[\"bakery_earnings\"] + monthly_sales[\"bakery_earnings\"]\n",
        "net_earnings = total_earnings - monthly_sales[\"total_monthly_expenses\"]\n",
        "\n",
        "print(f'==Summary of monthly sales of the unit {monthly_sales[\"unit\"]}==/n')\n",
        "print(f'Cut-off date: {monthly_sales[\"cut-off_date\"]}/n')\n",
        "print(f' - Total sales of inputs: {total_sales_of_inputs}')\n",
        "print(f' - Total earnings: {total_earnings}')\n",
        "print(f' - Net profit: {net_profit}')\n",
        "print(f'\\n')\n",
        "print(f'(Information collected by: {monthly_sales[\"analyst\"]})')"
      ],
      "metadata": {
        "id": "KlQhnIsyC6sQ"
      },
      "execution_count": null,
      "outputs": []
    },
    {
      "cell_type": "markdown",
      "source": [
        "Complete the monthly_sales dictionary so that the code that prints the sales summary works correctly.\n"
      ],
      "metadata": {
        "id": "fVNq5pF8DGB9"
      }
    },
    {
      "cell_type": "markdown",
      "source": [
        "**ACTIVITY 4**"
      ],
      "metadata": {
        "id": "hizz84sRDf1V"
      }
    },
    {
      "cell_type": "markdown",
      "source": [
        "a) Function number_is_even\n"
      ],
      "metadata": {
        "id": "63dOm3oNDjDP"
      }
    },
    {
      "cell_type": "markdown",
      "source": [
        "Below you have an incomplete function:\n"
      ],
      "metadata": {
        "id": "7XfNxH7PEVeA"
      }
    },
    {
      "cell_type": "code",
      "source": [
        "\n",
        "def number_is_even(number):\n",
        "    \n",
        "    # Your code goes here\n",
        "    # ...\n",
        "    # ...\n",
        "    \n",
        "    return"
      ],
      "metadata": {
        "id": "FSV-JC7iEhgl"
      },
      "execution_count": null,
      "outputs": []
    },
    {
      "cell_type": "markdown",
      "source": [
        "This function should take a number parameter, check if the number is even, return True if the number is even, and return False if the number is not even.\n"
      ],
      "metadata": {
        "id": "eVNyFx4MEc9l"
      }
    },
    {
      "cell_type": "markdown",
      "source": [
        "b) Code reuse\n"
      ],
      "metadata": {
        "id": "83maio9wFLn8"
      }
    },
    {
      "cell_type": "markdown",
      "source": [
        "Below we have some code.\n",
        "Run it to understand what is doing"
      ],
      "metadata": {
        "id": "SBJ7kydpFM8y"
      }
    },
    {
      "cell_type": "code",
      "source": [
        "result_1 = 34 * 100 / 100\n",
        "print(f'34 is the {result_1}% of the number 100\\n')\n",
        "\n",
        "result_2 = 57 * 100 / 127\n",
        "print(f'57 is the {result_2}% of the number 127\\n')\n",
        "\n",
        "result_3 = 12 * 100 / 228\n",
        "print(f'12 is the {result_3}% of the number 228\\n')\n",
        "\n",
        "result_4 = 87 * 100 / 90\n",
        "print(f'87 is the {result_4}% of the number 90\\n')\n",
        "\n",
        "result_5 = 1 * 100 / 999\n",
        "print(f'1 is the {result_5}% of the number 999\\n')\n",
        "\n",
        "result_6 = 66 * 100 / 66\n",
        "print(f'66 is the {result_6}% of the number 66\\n')"
      ],
      "metadata": {
        "id": "oDsF7sydFWaX"
      },
      "execution_count": null,
      "outputs": []
    },
    {
      "cell_type": "markdown",
      "source": [
        "This code works fine, but as you can see we are writing the same code over and over again. In the cell below, write a function that performs the math we're doing above, so we can reuse it multiple times to get the results we want. It also fills in the prints so that we can read the result in an understandable format.\n"
      ],
      "metadata": {
        "id": "8ZJjInjgF4et"
      }
    },
    {
      "cell_type": "code",
      "source": [
        "## Your function goes here\n",
        "# ...\n",
        "# ...\n",
        "\n",
        "result_1 =\n",
        "print(f'')\n",
        "\n",
        "result_2 =\n",
        "print(f'')\n",
        "\n",
        "result_3 =\n",
        "print(f'')\n",
        "\n",
        "result_4 =\n",
        "print(f'')\n",
        "\n",
        "result_5 =\n",
        "print(f'')\n",
        "\n",
        "result_6 =\n",
        "print(f'')"
      ],
      "metadata": {
        "id": "RIjFIsVuGA1a"
      },
      "execution_count": null,
      "outputs": []
    }
  ]
}