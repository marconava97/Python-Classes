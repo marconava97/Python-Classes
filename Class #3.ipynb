{
  "nbformat": 4,
  "nbformat_minor": 0,
  "metadata": {
    "colab": {
      "name": "Untitled13.ipynb",
      "provenance": []
    },
    "kernelspec": {
      "name": "python3",
      "display_name": "Python 3"
    },
    "language_info": {
      "name": "python"
    }
  },
  "cells": [
    {
      "cell_type": "markdown",
      "source": [
        "**LOOPS**"
      ],
      "metadata": {
        "id": "U_0gQLra4IF5"
      }
    },
    {
      "cell_type": "markdown",
      "source": [
        "In a programming language, a loop is a statement that contains instructions that continually repeats until a certain condition is reached.\n",
        "\n",
        "Loops help us remove the redundancy of code when a task has to be repeated several times. With the use of loops, we can cut short those hundred lines of code to a few. Suppose you want to print the text “Hello, World!” 10 times. Rather than writing a print statement 10 times, you can make use of loops by indicating the number of repetitions needed."
      ],
      "metadata": {
        "id": "KEldUeNT5BL-"
      }
    },
    {
      "cell_type": "markdown",
      "source": [
        "**IF / ELIF / ELSE STATEMENT**"
      ],
      "metadata": {
        "id": "UUCEVE9r5D6C"
      }
    },
    {
      "cell_type": "markdown",
      "source": [
        "We want to give our program the ability to make decisions. This can be done using an if statement. An if statement uses a comparison to get a boolean. If the boolean is True, the statement block is executed. If the boolean is False we skip to what follows after the block.\n"
      ],
      "metadata": {
        "id": "SKKhbLFf5XZd"
      }
    },
    {
      "cell_type": "code",
      "source": [
        "var_1 = 4\n",
        "var_2 = 5"
      ],
      "metadata": {
        "id": "g8OYsw9l5jkd"
      },
      "execution_count": null,
      "outputs": []
    },
    {
      "cell_type": "code",
      "source": [
        "if var_1 < var_2:\n",
        "    print(\"The block has been run\")"
      ],
      "metadata": {
        "id": "q4eLVHik5mXQ"
      },
      "execution_count": null,
      "outputs": []
    },
    {
      "cell_type": "code",
      "source": [
        "\n",
        "if var_1 > var_2:\n",
        "    print(\"The block has been run\")\n",
        "    \n",
        "print(\"I'm outside the block, and they're going to call me anyway\")"
      ],
      "metadata": {
        "id": "a6NDoRCC5sKH"
      },
      "execution_count": null,
      "outputs": []
    },
    {
      "cell_type": "markdown",
      "source": [
        "There are times that we want to have a default action, which we want to happen in case the comparison is False. For that we can use an else statement. Think of it like asking yourself, \"If I reach into my bag and find a $50 bill, I'll buy some nachos; if there's none, I'll watch the movie crying my eyes out.\"\n"
      ],
      "metadata": {
        "id": "At6Ufhal6FEk"
      }
    },
    {
      "cell_type": "markdown",
      "source": [
        "We implement the default action like this:\n"
      ],
      "metadata": {
        "id": "fIB5JT7X6JUL"
      }
    },
    {
      "cell_type": "code",
      "source": [
        "if var_1 > var_2:\n",
        "    print(\"The condition has been met\")\n",
        "else:\n",
        "    print(\"The condition has not been met, so I print\")"
      ],
      "metadata": {
        "id": "zy8PZ4WV6GPe"
      },
      "execution_count": null,
      "outputs": []
    },
    {
      "cell_type": "markdown",
      "source": [
        "If we want there to be more than two options, we can add options using the elif statement:\n"
      ],
      "metadata": {
        "id": "fGhD138t6Qdc"
      }
    },
    {
      "cell_type": "code",
      "source": [
        "if var_1 > var_2:\n",
        "    print(\"The first condition has been met\")\n",
        "elif var_1 < var_2:\n",
        "    print(\"The second condition has been met\")\n",
        "else:\n",
        "    print(\"The first two comparisons were False\")"
      ],
      "metadata": {
        "id": "FokWl7gN-R_f"
      },
      "execution_count": null,
      "outputs": []
    },
    {
      "cell_type": "code",
      "source": [
        "'''In this program, \n",
        "we check if the number is positive or\n",
        "negative or zero and \n",
        "display an appropriate message'''\n",
        "\n",
        "num = 3.4\n",
        "\n",
        "# Try these two variations as well:\n",
        "# num = 0\n",
        "# num = -4.5\n",
        "\n",
        "if num > 0:\n",
        "    print(\"Positive number\")\n",
        "elif num == 0:\n",
        "    print(\"Zero\")\n",
        "else:\n",
        "    print(\"Negative number\")"
      ],
      "metadata": {
        "id": "selgSXIr-u_n"
      },
      "execution_count": null,
      "outputs": []
    },
    {
      "cell_type": "markdown",
      "source": [
        "Q1. Write a program to accept percentage from the user and display the grade according to the following criteria:\n",
        "\n",
        "         Marks                                    Grade\n",
        "         > 90                                         A\n",
        "         > 80 and <= 90                               B\n",
        "         >= 60 and <= 80                              C\n",
        "         below 60                                     D"
      ],
      "metadata": {
        "id": "HWH-BkTq_ky7"
      }
    },
    {
      "cell_type": "code",
      "source": [
        "# Write your code here"
      ],
      "metadata": {
        "id": "7s4JQqLu_ldq"
      },
      "execution_count": null,
      "outputs": []
    },
    {
      "cell_type": "markdown",
      "source": [
        "**FOR LOOPS**\n",
        "\n"
      ],
      "metadata": {
        "id": "tqH8JeG7_uiK"
      }
    },
    {
      "cell_type": "markdown",
      "source": [
        "For loops help us automate processes. Basically, we first define what we want to iterate over (or loop), then we define a variable (or variables) that will receive each value of the iteration, and then we have the for loop block, which is where we carry out the processes to be automated. See what they look like in action:\n"
      ],
      "metadata": {
        "id": "Py29I5t-AM76"
      }
    },
    {
      "cell_type": "code",
      "source": [
        "for i in range(0, 10):\n",
        "    print(i)\n"
      ],
      "metadata": {
        "id": "iPng1v-nAcFR"
      },
      "execution_count": null,
      "outputs": []
    },
    {
      "cell_type": "code",
      "source": [
        "list_of_numbers = []\n",
        "\n",
        "for i in range(0, 50):\n",
        "    list_of_numbers.append(i)\n",
        "    \n",
        "print(list_of_numbers)"
      ],
      "metadata": {
        "id": "WJjEgxwuAhzR"
      },
      "execution_count": null,
      "outputs": []
    },
    {
      "cell_type": "code",
      "source": [
        "number = 150\n",
        "\n",
        "for _ in range(0, 20):\n",
        "    \n",
        "    # this process is independent of the loop, so we don't use the loop variable\n",
        "    # in this case the loop is only used to perform a task repeatedly\n",
        "    \n",
        "    number = number + 1\n",
        "\n",
        "print(number)"
      ],
      "metadata": {
        "id": "aQAe8_j3An1A"
      },
      "execution_count": null,
      "outputs": []
    },
    {
      "cell_type": "code",
      "source": [
        "dict_1 = {\n",
        "    'a': 1,\n",
        "    'b': 2,\n",
        "    'c': 3,\n",
        "    'd': 4,\n",
        "    e: 5\n",
        "}\n",
        "\n",
        "for key in dict_1:\n",
        "    print(dict_1[key])"
      ],
      "metadata": {
        "id": "O-OS3GNQAsxQ"
      },
      "execution_count": null,
      "outputs": []
    },
    {
      "cell_type": "markdown",
      "source": [
        "CHALLENGE: Write a Python program that prints all the numbers from 0 to 6 except 3 and 6"
      ],
      "metadata": {
        "id": "8Srp61YIBBnW"
      }
    },
    {
      "cell_type": "code",
      "source": [
        "# Write your code here"
      ],
      "metadata": {
        "id": "XkNiPKvBBUof"
      },
      "execution_count": null,
      "outputs": []
    },
    {
      "cell_type": "markdown",
      "source": [
        "Challenge: Write a Python program which iterates the integers from 1 to 50. For multiples of three print \"Fizz\" instead of the number and for the multiples of five print \"Buzz\". For numbers which are multiples of both three and five print \"FizzBuzz\"."
      ],
      "metadata": {
        "id": "tKAr-Fu7BVka"
      }
    },
    {
      "cell_type": "code",
      "source": [
        "# Write your code here"
      ],
      "metadata": {
        "id": "i1EcTWQWGhgG"
      },
      "execution_count": null,
      "outputs": []
    },
    {
      "cell_type": "markdown",
      "source": [
        "Challenge: Write a program to accept a number from 1 to 7 and display the name of the day like 1 for Sunday , 2 for Monday and so on.\n"
      ],
      "metadata": {
        "id": "vrbu8N-GHZFW"
      }
    },
    {
      "cell_type": "code",
      "source": [
        "#Write your code here"
      ],
      "metadata": {
        "id": "Mk2QxZ7KHcTm"
      },
      "execution_count": null,
      "outputs": []
    },
    {
      "cell_type": "markdown",
      "source": [
        "**WHILE LOOPS**"
      ],
      "metadata": {
        "id": "JpxO44OgJaCO"
      }
    },
    {
      "cell_type": "markdown",
      "source": [
        "A while loop allows you to repeat the execution of a group of statements as long as a condition is true (that is, as long as the condition has the value True).\n"
      ],
      "metadata": {
        "id": "rCKpf9AMJgLc"
      }
    },
    {
      "cell_type": "markdown",
      "source": [
        "The execution of this while control structure is as follows:\n",
        "\n",
        "Python evaluates the condition:\n",
        "- if the result is True, the body of the loop is executed. After the loop body is executed, the process is repeated (the condition is evaluated again, and if true, the loop body is executed again) over and over again as long as the condition is true.\n",
        "- if the result is False, the body of the loop is not executed and execution of the rest of the program continues.\n",
        "\n",
        "\n",
        "The variable or variables that appear in the condition are often called control variables. Control variables must be defined before the while loop and modified in the while loop."
      ],
      "metadata": {
        "id": "IsmnFc_nJhGe"
      }
    },
    {
      "cell_type": "code",
      "source": [
        "i = 1\n",
        "while i <= 3:\n",
        "    print(i)\n",
        "    i += 1\n",
        "print(\"Program finished\")"
      ],
      "metadata": {
        "id": "PGf1qwBPJq5M"
      },
      "execution_count": null,
      "outputs": []
    },
    {
      "cell_type": "code",
      "source": [
        "\n",
        "i = 1\n",
        "while i <= 50:\n",
        "    print(i)\n",
        "    i = 3 * i + 1\n",
        "print(\"Program finished\")"
      ],
      "metadata": {
        "id": "hSEkaMUfJ3dP"
      },
      "execution_count": null,
      "outputs": []
    },
    {
      "cell_type": "code",
      "source": [
        "number = int(input(\"Enter a positive number: \"))\n",
        "while number < 0:\n",
        "    print(\"You have entered a negative number! Please try again\")\n",
        "    number = int(input(\"Enter a positive number: \"))\n",
        "print(\"Thank you for your collaboration\")\n"
      ],
      "metadata": {
        "id": "gc2gMTTuKWfM"
      },
      "execution_count": null,
      "outputs": []
    },
    {
      "cell_type": "markdown",
      "source": [
        "Using while loop and if statement, iterate through the list and if there is a 100, print it with its index number. i.e.: \"There is a 100 at index no: 5\""
      ],
      "metadata": {
        "id": "2OegJAH3LNDQ"
      }
    },
    {
      "cell_type": "code",
      "source": [
        "#Write your code here"
      ],
      "metadata": {
        "id": "xEpDHv5jLcTe"
      },
      "execution_count": null,
      "outputs": []
    },
    {
      "cell_type": "markdown",
      "source": [
        "Using while loop and an if statement write a function named name_adder which appends all the elements in a list to a new list unless the element is an empty string: \"\"."
      ],
      "metadata": {
        "id": "_utcM51BLpTm"
      }
    },
    {
      "cell_type": "code",
      "source": [
        "#Write your code here"
      ],
      "metadata": {
        "id": "jO6WgLUCLzlN"
      },
      "execution_count": null,
      "outputs": []
    },
    {
      "cell_type": "markdown",
      "source": [
        "Create a list from 1 to 100, then split this list in two, one with all the multiples of 3 and the other with remaining ones.\n",
        " "
      ],
      "metadata": {
        "id": "iZwv8glHM2_I"
      }
    },
    {
      "cell_type": "code",
      "source": [
        "#Write your code here"
      ],
      "metadata": {
        "id": "MCViSb3PNnrl"
      },
      "execution_count": null,
      "outputs": []
    }
  ]
}